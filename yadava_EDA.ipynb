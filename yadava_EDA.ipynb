{
 "cells": [
  {
   "cell_type": "markdown",
   "id": "44f25702",
   "metadata": {},
   "source": [
    "# 1. INTRODUCTION TO OUR DATASET\n",
    "\n",
    "Files Description:\n",
    "\n",
    "1. Customers.csv\n",
    "○ CustomerID: Unique identifier for each customer.\n",
    "○ CustomerName: Name of the customer.\n",
    "○ Region: Continent where the customer resides.\n",
    "○ SignupDate: Date when the customer signed up.\n",
    "\n",
    "\n",
    "2. Products.csv\n",
    "○ ProductID: Unique identifier for each product.\n",
    "○ ProductName: Name of the product.\n",
    "○ Category: Product category.\n",
    "○ Price: Product price in USD.\n",
    "\n",
    "\n",
    "3. Transactions.csv\n",
    "○ TransactionID: Unique identifier for each transaction.\n",
    "○ CustomerID: ID of the customer who made the transaction.\n",
    "○ ProductID: ID of the product sold.\n",
    "○ TransactionDate: Date of the transaction.\n",
    "○ Quantity: Quantity of the product purchased.\n",
    "○ TotalValue: Total value of the transaction.\n",
    "○ Price: Price of the product sold.\n"
   ]
  },
  {
   "cell_type": "code",
   "execution_count": 13,
   "id": "46bf6ef1",
   "metadata": {},
   "outputs": [],
   "source": [
    "# importing required libs\n",
    "\n",
    "import numpy as np\n",
    "import pandas as pd\n",
    "\n",
    "\n"
   ]
  },
  {
   "cell_type": "markdown",
   "id": "fb3facb2",
   "metadata": {},
   "source": [
    "# customer data \n",
    "\n"
   ]
  },
  {
   "cell_type": "code",
   "execution_count": 14,
   "id": "a08835b4",
   "metadata": {},
   "outputs": [],
   "source": [
    "#load the dataset\n",
    "customer_df = pd.read_csv(\"Customers.csv\")"
   ]
  },
  {
   "cell_type": "code",
   "execution_count": 15,
   "id": "736fe612",
   "metadata": {
    "scrolled": true
   },
   "outputs": [
    {
     "data": {
      "text/html": [
       "<div>\n",
       "<style scoped>\n",
       "    .dataframe tbody tr th:only-of-type {\n",
       "        vertical-align: middle;\n",
       "    }\n",
       "\n",
       "    .dataframe tbody tr th {\n",
       "        vertical-align: top;\n",
       "    }\n",
       "\n",
       "    .dataframe thead th {\n",
       "        text-align: right;\n",
       "    }\n",
       "</style>\n",
       "<table border=\"1\" class=\"dataframe\">\n",
       "  <thead>\n",
       "    <tr style=\"text-align: right;\">\n",
       "      <th></th>\n",
       "      <th>CustomerID</th>\n",
       "      <th>CustomerName</th>\n",
       "      <th>Region</th>\n",
       "      <th>SignupDate</th>\n",
       "    </tr>\n",
       "  </thead>\n",
       "  <tbody>\n",
       "    <tr>\n",
       "      <th>0</th>\n",
       "      <td>C0001</td>\n",
       "      <td>Lawrence Carroll</td>\n",
       "      <td>South America</td>\n",
       "      <td>2022-07-10</td>\n",
       "    </tr>\n",
       "    <tr>\n",
       "      <th>1</th>\n",
       "      <td>C0002</td>\n",
       "      <td>Elizabeth Lutz</td>\n",
       "      <td>Asia</td>\n",
       "      <td>2022-02-13</td>\n",
       "    </tr>\n",
       "    <tr>\n",
       "      <th>2</th>\n",
       "      <td>C0003</td>\n",
       "      <td>Michael Rivera</td>\n",
       "      <td>South America</td>\n",
       "      <td>2024-03-07</td>\n",
       "    </tr>\n",
       "    <tr>\n",
       "      <th>3</th>\n",
       "      <td>C0004</td>\n",
       "      <td>Kathleen Rodriguez</td>\n",
       "      <td>South America</td>\n",
       "      <td>2022-10-09</td>\n",
       "    </tr>\n",
       "    <tr>\n",
       "      <th>4</th>\n",
       "      <td>C0005</td>\n",
       "      <td>Laura Weber</td>\n",
       "      <td>Asia</td>\n",
       "      <td>2022-08-15</td>\n",
       "    </tr>\n",
       "    <tr>\n",
       "      <th>5</th>\n",
       "      <td>C0006</td>\n",
       "      <td>Brittany Palmer</td>\n",
       "      <td>South America</td>\n",
       "      <td>2024-01-07</td>\n",
       "    </tr>\n",
       "    <tr>\n",
       "      <th>6</th>\n",
       "      <td>C0007</td>\n",
       "      <td>Paul Graves</td>\n",
       "      <td>Asia</td>\n",
       "      <td>2022-06-18</td>\n",
       "    </tr>\n",
       "    <tr>\n",
       "      <th>7</th>\n",
       "      <td>C0008</td>\n",
       "      <td>David Li</td>\n",
       "      <td>North America</td>\n",
       "      <td>2024-01-13</td>\n",
       "    </tr>\n",
       "    <tr>\n",
       "      <th>8</th>\n",
       "      <td>C0009</td>\n",
       "      <td>Joy Clark</td>\n",
       "      <td>Europe</td>\n",
       "      <td>2023-08-14</td>\n",
       "    </tr>\n",
       "    <tr>\n",
       "      <th>9</th>\n",
       "      <td>C0010</td>\n",
       "      <td>Aaron Cox</td>\n",
       "      <td>Europe</td>\n",
       "      <td>2022-12-15</td>\n",
       "    </tr>\n",
       "    <tr>\n",
       "      <th>10</th>\n",
       "      <td>C0011</td>\n",
       "      <td>Bryan Mathews</td>\n",
       "      <td>South America</td>\n",
       "      <td>2022-12-12</td>\n",
       "    </tr>\n",
       "    <tr>\n",
       "      <th>11</th>\n",
       "      <td>C0012</td>\n",
       "      <td>Kevin May</td>\n",
       "      <td>South America</td>\n",
       "      <td>2024-08-07</td>\n",
       "    </tr>\n",
       "    <tr>\n",
       "      <th>12</th>\n",
       "      <td>C0013</td>\n",
       "      <td>Lauren Buchanan</td>\n",
       "      <td>South America</td>\n",
       "      <td>2024-05-19</td>\n",
       "    </tr>\n",
       "    <tr>\n",
       "      <th>13</th>\n",
       "      <td>C0014</td>\n",
       "      <td>Deborah Wilcox</td>\n",
       "      <td>Europe</td>\n",
       "      <td>2024-06-22</td>\n",
       "    </tr>\n",
       "    <tr>\n",
       "      <th>14</th>\n",
       "      <td>C0015</td>\n",
       "      <td>Tina Duran</td>\n",
       "      <td>North America</td>\n",
       "      <td>2023-11-20</td>\n",
       "    </tr>\n",
       "  </tbody>\n",
       "</table>\n",
       "</div>"
      ],
      "text/plain": [
       "   CustomerID        CustomerName         Region  SignupDate\n",
       "0       C0001    Lawrence Carroll  South America  2022-07-10\n",
       "1       C0002      Elizabeth Lutz           Asia  2022-02-13\n",
       "2       C0003      Michael Rivera  South America  2024-03-07\n",
       "3       C0004  Kathleen Rodriguez  South America  2022-10-09\n",
       "4       C0005         Laura Weber           Asia  2022-08-15\n",
       "5       C0006     Brittany Palmer  South America  2024-01-07\n",
       "6       C0007         Paul Graves           Asia  2022-06-18\n",
       "7       C0008            David Li  North America  2024-01-13\n",
       "8       C0009           Joy Clark         Europe  2023-08-14\n",
       "9       C0010           Aaron Cox         Europe  2022-12-15\n",
       "10      C0011       Bryan Mathews  South America  2022-12-12\n",
       "11      C0012           Kevin May  South America  2024-08-07\n",
       "12      C0013     Lauren Buchanan  South America  2024-05-19\n",
       "13      C0014      Deborah Wilcox         Europe  2024-06-22\n",
       "14      C0015          Tina Duran  North America  2023-11-20"
      ]
     },
     "execution_count": 15,
     "metadata": {},
     "output_type": "execute_result"
    }
   ],
   "source": [
    "# check few records of the dataset\n",
    "customer_df.head(15)\n"
   ]
  },
  {
   "cell_type": "code",
   "execution_count": 16,
   "id": "06248992",
   "metadata": {},
   "outputs": [
    {
     "data": {
      "text/plain": [
       "(200, 4)"
      ]
     },
     "execution_count": 16,
     "metadata": {},
     "output_type": "execute_result"
    }
   ],
   "source": [
    "#shape of the dataset\n",
    "customer_df.shape\n",
    "\n",
    "#200 row and 4 colums"
   ]
  },
  {
   "cell_type": "code",
   "execution_count": 17,
   "id": "62d11bea",
   "metadata": {},
   "outputs": [
    {
     "name": "stdout",
     "output_type": "stream",
     "text": [
      "<class 'pandas.core.frame.DataFrame'>\n",
      "RangeIndex: 200 entries, 0 to 199\n",
      "Data columns (total 4 columns):\n",
      " #   Column        Non-Null Count  Dtype \n",
      "---  ------        --------------  ----- \n",
      " 0   CustomerID    200 non-null    object\n",
      " 1   CustomerName  200 non-null    object\n",
      " 2   Region        200 non-null    object\n",
      " 3   SignupDate    200 non-null    object\n",
      "dtypes: object(4)\n",
      "memory usage: 6.4+ KB\n"
     ]
    }
   ],
   "source": [
    "# check the basic info of the dataset(not null values count )\n",
    "customer_df.info()"
   ]
  },
  {
   "cell_type": "code",
   "execution_count": 18,
   "id": "16aa6b3e",
   "metadata": {},
   "outputs": [
    {
     "name": "stdout",
     "output_type": "stream",
     "text": [
      " Is there any duplicate in the Summary DataFrame? False.\n"
     ]
    }
   ],
   "source": [
    "#checking if any duplicates\n",
    "print(f' Is there any duplicate in the Summary DataFrame? {customer_df.duplicated().values.any()}.')"
   ]
  },
  {
   "cell_type": "code",
   "execution_count": 19,
   "id": "13f61a8d",
   "metadata": {},
   "outputs": [
    {
     "data": {
      "text/html": [
       "<div>\n",
       "<style scoped>\n",
       "    .dataframe tbody tr th:only-of-type {\n",
       "        vertical-align: middle;\n",
       "    }\n",
       "\n",
       "    .dataframe tbody tr th {\n",
       "        vertical-align: top;\n",
       "    }\n",
       "\n",
       "    .dataframe thead th {\n",
       "        text-align: right;\n",
       "    }\n",
       "</style>\n",
       "<table border=\"1\" class=\"dataframe\">\n",
       "  <thead>\n",
       "    <tr style=\"text-align: right;\">\n",
       "      <th></th>\n",
       "      <th>CustomerID</th>\n",
       "      <th>CustomerName</th>\n",
       "      <th>Region</th>\n",
       "      <th>SignupDate</th>\n",
       "    </tr>\n",
       "  </thead>\n",
       "  <tbody>\n",
       "    <tr>\n",
       "      <th>count</th>\n",
       "      <td>200</td>\n",
       "      <td>200</td>\n",
       "      <td>200</td>\n",
       "      <td>200</td>\n",
       "    </tr>\n",
       "    <tr>\n",
       "      <th>unique</th>\n",
       "      <td>200</td>\n",
       "      <td>200</td>\n",
       "      <td>4</td>\n",
       "      <td>179</td>\n",
       "    </tr>\n",
       "    <tr>\n",
       "      <th>top</th>\n",
       "      <td>C0001</td>\n",
       "      <td>Lawrence Carroll</td>\n",
       "      <td>South America</td>\n",
       "      <td>2024-11-11</td>\n",
       "    </tr>\n",
       "    <tr>\n",
       "      <th>freq</th>\n",
       "      <td>1</td>\n",
       "      <td>1</td>\n",
       "      <td>59</td>\n",
       "      <td>3</td>\n",
       "    </tr>\n",
       "  </tbody>\n",
       "</table>\n",
       "</div>"
      ],
      "text/plain": [
       "       CustomerID      CustomerName         Region  SignupDate\n",
       "count         200               200            200         200\n",
       "unique        200               200              4         179\n",
       "top         C0001  Lawrence Carroll  South America  2024-11-11\n",
       "freq            1                 1             59           3"
      ]
     },
     "execution_count": 19,
     "metadata": {},
     "output_type": "execute_result"
    }
   ],
   "source": [
    "customer_df.describe()\n",
    "# can see 4 unique regions"
   ]
  },
  {
   "cell_type": "code",
   "execution_count": 20,
   "id": "0ef706ac",
   "metadata": {},
   "outputs": [
    {
     "data": {
      "text/plain": [
       "array(['South America', 'Asia', 'North America', 'Europe'], dtype=object)"
      ]
     },
     "execution_count": 20,
     "metadata": {},
     "output_type": "execute_result"
    }
   ],
   "source": [
    "# check the  unique values 0f region\n",
    "customer_df['Region'].unique()"
   ]
  },
  {
   "cell_type": "markdown",
   "id": "3c2e3f3a",
   "metadata": {},
   "source": [
    "# 1. shows number of customers from each region"
   ]
  },
  {
   "cell_type": "code",
   "execution_count": 21,
   "id": "a9464f22",
   "metadata": {},
   "outputs": [
    {
     "data": {
      "text/plain": [
       "Region\n",
       "South America    59\n",
       "Europe           50\n",
       "North America    46\n",
       "Asia             45\n",
       "Name: count, dtype: int64"
      ]
     },
     "execution_count": 21,
     "metadata": {},
     "output_type": "execute_result"
    }
   ],
   "source": [
    "\n",
    "customer_df['Region'].value_counts()"
   ]
  },
  {
   "cell_type": "code",
   "execution_count": 56,
   "id": "76952464",
   "metadata": {},
   "outputs": [
    {
     "data": {
      "image/png": "[encoded data removed]",
      "text/plain": [
       "<Figure size 432x288 with 1 Axes>"
      ]
     },
     "metadata": {},
     "output_type": "display_data"
    }
   ],
   "source": [
    "import matplotlib.pyplot as plt\n",
    "\n",
    "customer_df['Region'].value_counts().plot(kind='pie',autopct='%1.1f%%',title='Customer Distribution by Region')\n",
    "plt.show()\n"
   ]
  },
  {
   "cell_type": "markdown",
   "id": "8f70113a",
   "metadata": {},
   "source": [
    "# 2.NUMBER OF CUSTOMERS SIGNEUP IN EACH YEAR"
   ]
  },
  {
   "cell_type": "code",
   "execution_count": null,
   "id": "f0995bb3",
   "metadata": {},
   "outputs": [],
   "source": [
    "# signup value counts\n",
    "# shows number of customers signup on that date\n",
    "customer_df['SignupDate'].value_counts()"
   ]
  },
  {
   "cell_type": "code",
   "execution_count": 23,
   "id": "1425103e",
   "metadata": {},
   "outputs": [
    {
     "name": "stdout",
     "output_type": "stream",
     "text": [
      "SignupYear\n",
      "2022    64\n",
      "2023    57\n",
      "2024    79\n",
      "Name: count, dtype: int64\n"
     ]
    }
   ],
   "source": [
    "customer_df['SignupYear'] = pd.to_datetime(customer_df['SignupDate']).dt.year\n",
    "\n",
    "# Count of customers by year\n",
    "signup_trend = customer_df['SignupYear'].value_counts().sort_index()\n",
    "print(signup_trend)\n"
   ]
  },
  {
   "cell_type": "code",
   "execution_count": 57,
   "id": "31573125",
   "metadata": {},
   "outputs": [
    {
     "data": {
      "image/png": "[encoded data removed]",
      "text/plain": [
       "<Figure size 432x288 with 1 Axes>"
      ]
     },
     "metadata": {
      "needs_background": "light"
     },
     "output_type": "display_data"
    }
   ],
   "source": [
    "\n",
    "\n",
    "signup_trend.plot(kind='bar', title='Customer Signup Trends by Year')\n",
    "plt.xlabel('Year')\n",
    "plt.ylabel('Number of Customers')\n",
    "plt.show()\n"
   ]
  },
  {
   "cell_type": "markdown",
   "id": "8610e4a0",
   "metadata": {},
   "source": [
    "# Products data"
   ]
  },
  {
   "cell_type": "code",
   "execution_count": 25,
   "id": "6696c44e",
   "metadata": {},
   "outputs": [],
   "source": [
    "#load the dataset\n",
    "products_df = pd.read_csv(\"Products.csv\")"
   ]
  },
  {
   "cell_type": "code",
   "execution_count": 26,
   "id": "d6a3b616",
   "metadata": {},
   "outputs": [
    {
     "data": {
      "text/html": [
       "<div>\n",
       "<style scoped>\n",
       "    .dataframe tbody tr th:only-of-type {\n",
       "        vertical-align: middle;\n",
       "    }\n",
       "\n",
       "    .dataframe tbody tr th {\n",
       "        vertical-align: top;\n",
       "    }\n",
       "\n",
       "    .dataframe thead th {\n",
       "        text-align: right;\n",
       "    }\n",
       "</style>\n",
       "<table border=\"1\" class=\"dataframe\">\n",
       "  <thead>\n",
       "    <tr style=\"text-align: right;\">\n",
       "      <th></th>\n",
       "      <th>ProductID</th>\n",
       "      <th>ProductName</th>\n",
       "      <th>Category</th>\n",
       "      <th>Price</th>\n",
       "    </tr>\n",
       "  </thead>\n",
       "  <tbody>\n",
       "    <tr>\n",
       "      <th>0</th>\n",
       "      <td>P001</td>\n",
       "      <td>ActiveWear Biography</td>\n",
       "      <td>Books</td>\n",
       "      <td>169.30</td>\n",
       "    </tr>\n",
       "    <tr>\n",
       "      <th>1</th>\n",
       "      <td>P002</td>\n",
       "      <td>ActiveWear Smartwatch</td>\n",
       "      <td>Electronics</td>\n",
       "      <td>346.30</td>\n",
       "    </tr>\n",
       "    <tr>\n",
       "      <th>2</th>\n",
       "      <td>P003</td>\n",
       "      <td>ComfortLiving Biography</td>\n",
       "      <td>Books</td>\n",
       "      <td>44.12</td>\n",
       "    </tr>\n",
       "    <tr>\n",
       "      <th>3</th>\n",
       "      <td>P004</td>\n",
       "      <td>BookWorld Rug</td>\n",
       "      <td>Home Decor</td>\n",
       "      <td>95.69</td>\n",
       "    </tr>\n",
       "    <tr>\n",
       "      <th>4</th>\n",
       "      <td>P005</td>\n",
       "      <td>TechPro T-Shirt</td>\n",
       "      <td>Clothing</td>\n",
       "      <td>429.31</td>\n",
       "    </tr>\n",
       "    <tr>\n",
       "      <th>5</th>\n",
       "      <td>P006</td>\n",
       "      <td>ActiveWear Rug</td>\n",
       "      <td>Home Decor</td>\n",
       "      <td>121.32</td>\n",
       "    </tr>\n",
       "    <tr>\n",
       "      <th>6</th>\n",
       "      <td>P007</td>\n",
       "      <td>SoundWave Cookbook</td>\n",
       "      <td>Books</td>\n",
       "      <td>420.15</td>\n",
       "    </tr>\n",
       "    <tr>\n",
       "      <th>7</th>\n",
       "      <td>P008</td>\n",
       "      <td>BookWorld Bluetooth Speaker</td>\n",
       "      <td>Electronics</td>\n",
       "      <td>146.85</td>\n",
       "    </tr>\n",
       "    <tr>\n",
       "      <th>8</th>\n",
       "      <td>P009</td>\n",
       "      <td>BookWorld Wall Art</td>\n",
       "      <td>Home Decor</td>\n",
       "      <td>325.01</td>\n",
       "    </tr>\n",
       "    <tr>\n",
       "      <th>9</th>\n",
       "      <td>P010</td>\n",
       "      <td>ComfortLiving Smartwatch</td>\n",
       "      <td>Electronics</td>\n",
       "      <td>350.13</td>\n",
       "    </tr>\n",
       "    <tr>\n",
       "      <th>10</th>\n",
       "      <td>P011</td>\n",
       "      <td>SoundWave Desk Lamp</td>\n",
       "      <td>Home Decor</td>\n",
       "      <td>261.20</td>\n",
       "    </tr>\n",
       "    <tr>\n",
       "      <th>11</th>\n",
       "      <td>P012</td>\n",
       "      <td>ComfortLiving Headphones</td>\n",
       "      <td>Electronics</td>\n",
       "      <td>159.60</td>\n",
       "    </tr>\n",
       "    <tr>\n",
       "      <th>12</th>\n",
       "      <td>P013</td>\n",
       "      <td>BookWorld Smartwatch</td>\n",
       "      <td>Electronics</td>\n",
       "      <td>114.20</td>\n",
       "    </tr>\n",
       "    <tr>\n",
       "      <th>13</th>\n",
       "      <td>P014</td>\n",
       "      <td>ActiveWear Jacket</td>\n",
       "      <td>Clothing</td>\n",
       "      <td>26.26</td>\n",
       "    </tr>\n",
       "    <tr>\n",
       "      <th>14</th>\n",
       "      <td>P015</td>\n",
       "      <td>HomeSense Headphones</td>\n",
       "      <td>Electronics</td>\n",
       "      <td>158.93</td>\n",
       "    </tr>\n",
       "  </tbody>\n",
       "</table>\n",
       "</div>"
      ],
      "text/plain": [
       "   ProductID                  ProductName     Category   Price\n",
       "0       P001         ActiveWear Biography        Books  169.30\n",
       "1       P002        ActiveWear Smartwatch  Electronics  346.30\n",
       "2       P003      ComfortLiving Biography        Books   44.12\n",
       "3       P004                BookWorld Rug   Home Decor   95.69\n",
       "4       P005              TechPro T-Shirt     Clothing  429.31\n",
       "5       P006               ActiveWear Rug   Home Decor  121.32\n",
       "6       P007           SoundWave Cookbook        Books  420.15\n",
       "7       P008  BookWorld Bluetooth Speaker  Electronics  146.85\n",
       "8       P009           BookWorld Wall Art   Home Decor  325.01\n",
       "9       P010     ComfortLiving Smartwatch  Electronics  350.13\n",
       "10      P011          SoundWave Desk Lamp   Home Decor  261.20\n",
       "11      P012     ComfortLiving Headphones  Electronics  159.60\n",
       "12      P013         BookWorld Smartwatch  Electronics  114.20\n",
       "13      P014            ActiveWear Jacket     Clothing   26.26\n",
       "14      P015         HomeSense Headphones  Electronics  158.93"
      ]
     },
     "execution_count": 26,
     "metadata": {},
     "output_type": "execute_result"
    }
   ],
   "source": [
    "# check few records of the dataset\n",
    "products_df.head(15)\n"
   ]
  },
  {
   "cell_type": "code",
   "execution_count": 27,
   "id": "d1d595fb",
   "metadata": {},
   "outputs": [
    {
     "data": {
      "text/plain": [
       "(100, 4)"
      ]
     },
     "execution_count": 27,
     "metadata": {},
     "output_type": "execute_result"
    }
   ],
   "source": [
    "#shape of the dataset\n",
    "products_df.shape\n",
    "\n",
    "#100 row and 4 colums"
   ]
  },
  {
   "cell_type": "code",
   "execution_count": 28,
   "id": "dab74a23",
   "metadata": {},
   "outputs": [
    {
     "name": "stdout",
     "output_type": "stream",
     "text": [
      "<class 'pandas.core.frame.DataFrame'>\n",
      "RangeIndex: 100 entries, 0 to 99\n",
      "Data columns (total 4 columns):\n",
      " #   Column       Non-Null Count  Dtype  \n",
      "---  ------       --------------  -----  \n",
      " 0   ProductID    100 non-null    object \n",
      " 1   ProductName  100 non-null    object \n",
      " 2   Category     100 non-null    object \n",
      " 3   Price        100 non-null    float64\n",
      "dtypes: float64(1), object(3)\n",
      "memory usage: 3.2+ KB\n"
     ]
    }
   ],
   "source": [
    "# check the basic info of the dataset(not null values count )\n",
    "products_df.info()"
   ]
  },
  {
   "cell_type": "code",
   "execution_count": 29,
   "id": "c87347a3",
   "metadata": {},
   "outputs": [
    {
     "name": "stdout",
     "output_type": "stream",
     "text": [
      " Is there any duplicate in the Summary DataFrame? False.\n"
     ]
    }
   ],
   "source": [
    "#checking if any duplicates\n",
    "print(f' Is there any duplicate in the Summary DataFrame? {products_df.duplicated().values.any()}.')"
   ]
  },
  {
   "cell_type": "code",
   "execution_count": 30,
   "id": "bbc330dd",
   "metadata": {},
   "outputs": [
    {
     "data": {
      "text/html": [
       "<div>\n",
       "<style scoped>\n",
       "    .dataframe tbody tr th:only-of-type {\n",
       "        vertical-align: middle;\n",
       "    }\n",
       "\n",
       "    .dataframe tbody tr th {\n",
       "        vertical-align: top;\n",
       "    }\n",
       "\n",
       "    .dataframe thead th {\n",
       "        text-align: right;\n",
       "    }\n",
       "</style>\n",
       "<table border=\"1\" class=\"dataframe\">\n",
       "  <thead>\n",
       "    <tr style=\"text-align: right;\">\n",
       "      <th></th>\n",
       "      <th>Price</th>\n",
       "    </tr>\n",
       "  </thead>\n",
       "  <tbody>\n",
       "    <tr>\n",
       "      <th>count</th>\n",
       "      <td>100.000000</td>\n",
       "    </tr>\n",
       "    <tr>\n",
       "      <th>mean</th>\n",
       "      <td>267.551700</td>\n",
       "    </tr>\n",
       "    <tr>\n",
       "      <th>std</th>\n",
       "      <td>143.219383</td>\n",
       "    </tr>\n",
       "    <tr>\n",
       "      <th>min</th>\n",
       "      <td>16.080000</td>\n",
       "    </tr>\n",
       "    <tr>\n",
       "      <th>25%</th>\n",
       "      <td>147.767500</td>\n",
       "    </tr>\n",
       "    <tr>\n",
       "      <th>50%</th>\n",
       "      <td>292.875000</td>\n",
       "    </tr>\n",
       "    <tr>\n",
       "      <th>75%</th>\n",
       "      <td>397.090000</td>\n",
       "    </tr>\n",
       "    <tr>\n",
       "      <th>max</th>\n",
       "      <td>497.760000</td>\n",
       "    </tr>\n",
       "  </tbody>\n",
       "</table>\n",
       "</div>"
      ],
      "text/plain": [
       "            Price\n",
       "count  100.000000\n",
       "mean   267.551700\n",
       "std    143.219383\n",
       "min     16.080000\n",
       "25%    147.767500\n",
       "50%    292.875000\n",
       "75%    397.090000\n",
       "max    497.760000"
      ]
     },
     "execution_count": 30,
     "metadata": {},
     "output_type": "execute_result"
    }
   ],
   "source": [
    "products_df.describe()\n"
   ]
  },
  {
   "cell_type": "code",
   "execution_count": 31,
   "id": "8dd992f1",
   "metadata": {},
   "outputs": [
    {
     "name": "stdout",
     "output_type": "stream",
     "text": [
      "['Books' 'Electronics' 'Home Decor' 'Clothing']\n"
     ]
    }
   ],
   "source": [
    "# check the  unique values 0f Category\n",
    "unique_category=products_df['Category'].unique()\n",
    "print(unique_category)"
   ]
  },
  {
   "cell_type": "code",
   "execution_count": 32,
   "id": "1b643ba5",
   "metadata": {},
   "outputs": [
    {
     "data": {
      "text/plain": [
       "Category\n",
       "Books          26\n",
       "Electronics    26\n",
       "Clothing       25\n",
       "Home Decor     23\n",
       "Name: count, dtype: int64"
      ]
     },
     "execution_count": 32,
     "metadata": {},
     "output_type": "execute_result"
    }
   ],
   "source": [
    "# catogery value counts\n",
    "# shows count of each catogery\n",
    "category_counts=products_df['Category'].value_counts()\n",
    "category_counts"
   ]
  },
  {
   "cell_type": "code",
   "execution_count": 33,
   "id": "df9b1f83",
   "metadata": {},
   "outputs": [
    {
     "data": {
      "image/png": "[encoded data removed]",
      "text/plain": [
       "<Figure size 432x288 with 1 Axes>"
      ]
     },
     "metadata": {
      "needs_background": "light"
     },
     "output_type": "display_data"
    }
   ],
   "source": [
    "# Visualize category counts\n",
    "category_counts.plot(kind='bar', title='Products by Category')\n",
    "plt.xlabel('Category')\n",
    "plt.ylabel('Number of Products')\n",
    "plt.show()"
   ]
  },
  {
   "cell_type": "code",
   "execution_count": 34,
   "id": "6cad117f",
   "metadata": {},
   "outputs": [
    {
     "data": {
      "text/plain": [
       "array(['ActiveWear Biography', 'ActiveWear Smartwatch',\n",
       "       'ComfortLiving Biography', 'BookWorld Rug', 'TechPro T-Shirt',\n",
       "       'ActiveWear Rug', 'SoundWave Cookbook',\n",
       "       'BookWorld Bluetooth Speaker', 'BookWorld Wall Art',\n",
       "       'ComfortLiving Smartwatch', 'SoundWave Desk Lamp',\n",
       "       'ComfortLiving Headphones', 'BookWorld Smartwatch',\n",
       "       'ActiveWear Jacket', 'HomeSense Headphones',\n",
       "       'ActiveWear Running Shoes', 'ActiveWear Textbook',\n",
       "       'ComfortLiving Mystery Book', 'ComfortLiving Sweater',\n",
       "       'SoundWave Rug', 'HomeSense Wall Art', 'ActiveWear Cookware Set',\n",
       "       'SoundWave Bluetooth Speaker', 'SoundWave Headphones',\n",
       "       'HomeSense Desk Lamp', 'TechPro Headphones', 'ActiveWear Cookbook',\n",
       "       'BookWorld Cookbook', 'HomeSense T-Shirt', 'ActiveWear T-Shirt',\n",
       "       'BookWorld Jacket', 'SoundWave Smartwatch', 'TechPro Vase',\n",
       "       'TechPro Smartwatch', 'SoundWave Mystery Book',\n",
       "       'ComfortLiving Smartphone', 'ActiveWear Headphones',\n",
       "       'SoundWave Novel', 'SoundWave T-Shirt', 'BookWorld Sweater',\n",
       "       'ComfortLiving Cookware Set', 'TechPro Cookbook',\n",
       "       'TechPro Textbook', 'ComfortLiving Desk Lamp', 'SoundWave Jacket',\n",
       "       'TechPro Rug', 'BookWorld Biography', 'ActiveWear Smartphone',\n",
       "       'SoundWave Jeans', 'HomeSense Novel', 'TechPro Novel',\n",
       "       'HomeSense Running Shoes', 'SoundWave Textbook',\n",
       "       'ComfortLiving Bluetooth Speaker', 'ComfortLiving Laptop',\n",
       "       'ActiveWear Jeans', 'HomeSense Rug', 'HomeSense Sweater',\n",
       "       'ComfortLiving Rug', 'ActiveWear Wall Art',\n",
       "       'TechPro Running Shoes', 'HomeSense Bluetooth Speaker',\n",
       "       'BookWorld Running Shoes', 'HomeSense Cookware Set',\n",
       "       'BookWorld Cookware Set', 'SoundWave Laptop'], dtype=object)"
      ]
     },
     "execution_count": 34,
     "metadata": {},
     "output_type": "execute_result"
    }
   ],
   "source": [
    "# check the  unique values 0f ProductName\n",
    "products_df['ProductName'].unique()"
   ]
  },
  {
   "cell_type": "code",
   "execution_count": 35,
   "id": "ea0fbd94",
   "metadata": {
    "scrolled": true
   },
   "outputs": [
    {
     "data": {
      "text/plain": [
       "ProductName\n",
       "ActiveWear Smartwatch         4\n",
       "SoundWave Headphones          4\n",
       "BookWorld Biography           3\n",
       "TechPro T-Shirt               3\n",
       "SoundWave Cookbook            3\n",
       "                             ..\n",
       "BookWorld Jacket              1\n",
       "ComfortLiving Smartphone      1\n",
       "SoundWave T-Shirt             1\n",
       "ComfortLiving Cookware Set    1\n",
       "SoundWave Laptop              1\n",
       "Name: count, Length: 66, dtype: int64"
      ]
     },
     "execution_count": 35,
     "metadata": {},
     "output_type": "execute_result"
    }
   ],
   "source": [
    "# ProductName value counts\n",
    "# shows count of each ProductName\n",
    "products_df['ProductName'].value_counts()"
   ]
  },
  {
   "cell_type": "code",
   "execution_count": 36,
   "id": "591cf002",
   "metadata": {
    "scrolled": true
   },
   "outputs": [
    {
     "data": {
      "text/plain": [
       "Category\n",
       "Books          [ActiveWear Biography, ComfortLiving Biography...\n",
       "Clothing       [TechPro T-Shirt, ActiveWear Jacket, ActiveWea...\n",
       "Electronics    [ActiveWear Smartwatch, BookWorld Bluetooth Sp...\n",
       "Home Decor     [BookWorld Rug, ActiveWear Rug, BookWorld Wall...\n",
       "Name: ProductName, dtype: object"
      ]
     },
     "execution_count": 36,
     "metadata": {},
     "output_type": "execute_result"
    }
   ],
   "source": [
    "#find unique products in each catogery\n",
    "\n",
    "category_products=products_df.groupby(\"Category\")[\"ProductName\"].unique()\n",
    "category_products"
   ]
  },
  {
   "cell_type": "markdown",
   "id": "7c4f694f",
   "metadata": {},
   "source": [
    "# 3. Top and Bottom Priced Products\n",
    "Identify the most expensive and cheapest products."
   ]
  },
  {
   "cell_type": "code",
   "execution_count": 37,
   "id": "c804a152",
   "metadata": {},
   "outputs": [
    {
     "name": "stdout",
     "output_type": "stream",
     "text": [
      "Top Priced Products:\n",
      "   ProductID               ProductName     Category   Price\n",
      "74      P075          TechPro Textbook        Books  497.76\n",
      "31      P032        BookWorld Cookbook        Books  488.63\n",
      "44      P045         SoundWave T-Shirt     Clothing  481.78\n",
      "16      P017       ActiveWear Textbook        Books  469.77\n",
      "36      P037      SoundWave Smartwatch  Electronics  459.86\n",
      "40      P041  ComfortLiving Smartphone  Electronics  456.28\n",
      "82      P083     ActiveWear Smartwatch  Electronics  455.72\n",
      "22      P023   ActiveWear Cookware Set   Home Decor  454.53\n",
      "63      P064   HomeSense Running Shoes     Clothing  452.42\n",
      "93      P094    HomeSense Cookware Set   Home Decor  447.34\n",
      "\n",
      "Bottom Priced Products:\n",
      "   ProductID               ProductName     Category  Price\n",
      "55      P056      SoundWave Smartwatch  Electronics  16.08\n",
      "43      P044  ActiveWear Running Shoes     Clothing  18.82\n",
      "13      P014         ActiveWear Jacket     Clothing  26.26\n",
      "72      P073      ComfortLiving Laptop  Electronics  26.99\n",
      "34      P035        ActiveWear T-Shirt     Clothing  30.59\n",
      "62      P063             TechPro Novel        Books  33.59\n",
      "77      P078             HomeSense Rug   Home Decor  41.18\n",
      "2       P003   ComfortLiving Biography        Books  44.12\n",
      "69      P070         HomeSense T-Shirt     Clothing  48.69\n",
      "81      P082         ComfortLiving Rug   Home Decor  55.99\n"
     ]
    }
   ],
   "source": [
    "top_priced_products = products_df.sort_values('Price', ascending=False).head(10)\n",
    "print(\"Top Priced Products:\")\n",
    "print(top_priced_products)\n",
    "\n",
    "print()\n",
    "\n",
    "\n",
    "bottom_priced_products = products_df.sort_values('Price', ascending=True).head(10)\n",
    "print(\"Bottom Priced Products:\")\n",
    "print(bottom_priced_products)\n"
   ]
  },
  {
   "cell_type": "markdown",
   "id": "6a483834",
   "metadata": {},
   "source": [
    "#  Transaction data"
   ]
  },
  {
   "cell_type": "code",
   "execution_count": 38,
   "id": "5a1a7ab9",
   "metadata": {},
   "outputs": [],
   "source": [
    "#load the dataset\n",
    "Transactions_df = pd.read_csv(\"Transactions.csv\")"
   ]
  },
  {
   "cell_type": "code",
   "execution_count": 39,
   "id": "339911e7",
   "metadata": {},
   "outputs": [
    {
     "data": {
      "text/html": [
       "<div>\n",
       "<style scoped>\n",
       "    .dataframe tbody tr th:only-of-type {\n",
       "        vertical-align: middle;\n",
       "    }\n",
       "\n",
       "    .dataframe tbody tr th {\n",
       "        vertical-align: top;\n",
       "    }\n",
       "\n",
       "    .dataframe thead th {\n",
       "        text-align: right;\n",
       "    }\n",
       "</style>\n",
       "<table border=\"1\" class=\"dataframe\">\n",
       "  <thead>\n",
       "    <tr style=\"text-align: right;\">\n",
       "      <th></th>\n",
       "      <th>TransactionID</th>\n",
       "      <th>CustomerID</th>\n",
       "      <th>ProductID</th>\n",
       "      <th>TransactionDate</th>\n",
       "      <th>Quantity</th>\n",
       "      <th>TotalValue</th>\n",
       "      <th>Price</th>\n",
       "    </tr>\n",
       "  </thead>\n",
       "  <tbody>\n",
       "    <tr>\n",
       "      <th>0</th>\n",
       "      <td>T00001</td>\n",
       "      <td>C0199</td>\n",
       "      <td>P067</td>\n",
       "      <td>2024-08-25 12:38:23</td>\n",
       "      <td>1</td>\n",
       "      <td>300.68</td>\n",
       "      <td>300.68</td>\n",
       "    </tr>\n",
       "    <tr>\n",
       "      <th>1</th>\n",
       "      <td>T00112</td>\n",
       "      <td>C0146</td>\n",
       "      <td>P067</td>\n",
       "      <td>2024-05-27 22:23:54</td>\n",
       "      <td>1</td>\n",
       "      <td>300.68</td>\n",
       "      <td>300.68</td>\n",
       "    </tr>\n",
       "    <tr>\n",
       "      <th>2</th>\n",
       "      <td>T00166</td>\n",
       "      <td>C0127</td>\n",
       "      <td>P067</td>\n",
       "      <td>2024-04-25 07:38:55</td>\n",
       "      <td>1</td>\n",
       "      <td>300.68</td>\n",
       "      <td>300.68</td>\n",
       "    </tr>\n",
       "    <tr>\n",
       "      <th>3</th>\n",
       "      <td>T00272</td>\n",
       "      <td>C0087</td>\n",
       "      <td>P067</td>\n",
       "      <td>2024-03-26 22:55:37</td>\n",
       "      <td>2</td>\n",
       "      <td>601.36</td>\n",
       "      <td>300.68</td>\n",
       "    </tr>\n",
       "    <tr>\n",
       "      <th>4</th>\n",
       "      <td>T00363</td>\n",
       "      <td>C0070</td>\n",
       "      <td>P067</td>\n",
       "      <td>2024-03-21 15:10:10</td>\n",
       "      <td>3</td>\n",
       "      <td>902.04</td>\n",
       "      <td>300.68</td>\n",
       "    </tr>\n",
       "    <tr>\n",
       "      <th>5</th>\n",
       "      <td>T00442</td>\n",
       "      <td>C0188</td>\n",
       "      <td>P067</td>\n",
       "      <td>2024-12-26 14:40:03</td>\n",
       "      <td>1</td>\n",
       "      <td>300.68</td>\n",
       "      <td>300.68</td>\n",
       "    </tr>\n",
       "    <tr>\n",
       "      <th>6</th>\n",
       "      <td>T00490</td>\n",
       "      <td>C0195</td>\n",
       "      <td>P067</td>\n",
       "      <td>2024-11-24 11:49:48</td>\n",
       "      <td>3</td>\n",
       "      <td>902.04</td>\n",
       "      <td>300.68</td>\n",
       "    </tr>\n",
       "    <tr>\n",
       "      <th>7</th>\n",
       "      <td>T00536</td>\n",
       "      <td>C0008</td>\n",
       "      <td>P067</td>\n",
       "      <td>2024-09-22 06:13:59</td>\n",
       "      <td>1</td>\n",
       "      <td>300.68</td>\n",
       "      <td>300.68</td>\n",
       "    </tr>\n",
       "    <tr>\n",
       "      <th>8</th>\n",
       "      <td>T00564</td>\n",
       "      <td>C0157</td>\n",
       "      <td>P067</td>\n",
       "      <td>2024-12-07 17:57:40</td>\n",
       "      <td>3</td>\n",
       "      <td>902.04</td>\n",
       "      <td>300.68</td>\n",
       "    </tr>\n",
       "    <tr>\n",
       "      <th>9</th>\n",
       "      <td>T00631</td>\n",
       "      <td>C0130</td>\n",
       "      <td>P067</td>\n",
       "      <td>2024-05-14 23:14:59</td>\n",
       "      <td>2</td>\n",
       "      <td>601.36</td>\n",
       "      <td>300.68</td>\n",
       "    </tr>\n",
       "    <tr>\n",
       "      <th>10</th>\n",
       "      <td>T00727</td>\n",
       "      <td>C0051</td>\n",
       "      <td>P067</td>\n",
       "      <td>2024-01-20 04:52:14</td>\n",
       "      <td>3</td>\n",
       "      <td>902.04</td>\n",
       "      <td>300.68</td>\n",
       "    </tr>\n",
       "    <tr>\n",
       "      <th>11</th>\n",
       "      <td>T00729</td>\n",
       "      <td>C0075</td>\n",
       "      <td>P067</td>\n",
       "      <td>2024-10-07 06:38:36</td>\n",
       "      <td>2</td>\n",
       "      <td>601.36</td>\n",
       "      <td>300.68</td>\n",
       "    </tr>\n",
       "    <tr>\n",
       "      <th>12</th>\n",
       "      <td>T00797</td>\n",
       "      <td>C0155</td>\n",
       "      <td>P067</td>\n",
       "      <td>2024-10-04 20:42:53</td>\n",
       "      <td>2</td>\n",
       "      <td>601.36</td>\n",
       "      <td>300.68</td>\n",
       "    </tr>\n",
       "    <tr>\n",
       "      <th>13</th>\n",
       "      <td>T00002</td>\n",
       "      <td>C0092</td>\n",
       "      <td>P034</td>\n",
       "      <td>2024-12-16 03:31:07</td>\n",
       "      <td>2</td>\n",
       "      <td>434.10</td>\n",
       "      <td>217.05</td>\n",
       "    </tr>\n",
       "    <tr>\n",
       "      <th>14</th>\n",
       "      <td>T00063</td>\n",
       "      <td>C0088</td>\n",
       "      <td>P034</td>\n",
       "      <td>2024-06-19 07:16:55</td>\n",
       "      <td>2</td>\n",
       "      <td>434.10</td>\n",
       "      <td>217.05</td>\n",
       "    </tr>\n",
       "  </tbody>\n",
       "</table>\n",
       "</div>"
      ],
      "text/plain": [
       "   TransactionID CustomerID ProductID      TransactionDate  Quantity  \\\n",
       "0         T00001      C0199      P067  2024-08-25 12:38:23         1   \n",
       "1         T00112      C0146      P067  2024-05-27 22:23:54         1   \n",
       "2         T00166      C0127      P067  2024-04-25 07:38:55         1   \n",
       "3         T00272      C0087      P067  2024-03-26 22:55:37         2   \n",
       "4         T00363      C0070      P067  2024-03-21 15:10:10         3   \n",
       "5         T00442      C0188      P067  2024-12-26 14:40:03         1   \n",
       "6         T00490      C0195      P067  2024-11-24 11:49:48         3   \n",
       "7         T00536      C0008      P067  2024-09-22 06:13:59         1   \n",
       "8         T00564      C0157      P067  2024-12-07 17:57:40         3   \n",
       "9         T00631      C0130      P067  2024-05-14 23:14:59         2   \n",
       "10        T00727      C0051      P067  2024-01-20 04:52:14         3   \n",
       "11        T00729      C0075      P067  2024-10-07 06:38:36         2   \n",
       "12        T00797      C0155      P067  2024-10-04 20:42:53         2   \n",
       "13        T00002      C0092      P034  2024-12-16 03:31:07         2   \n",
       "14        T00063      C0088      P034  2024-06-19 07:16:55         2   \n",
       "\n",
       "    TotalValue   Price  \n",
       "0       300.68  300.68  \n",
       "1       300.68  300.68  \n",
       "2       300.68  300.68  \n",
       "3       601.36  300.68  \n",
       "4       902.04  300.68  \n",
       "5       300.68  300.68  \n",
       "6       902.04  300.68  \n",
       "7       300.68  300.68  \n",
       "8       902.04  300.68  \n",
       "9       601.36  300.68  \n",
       "10      902.04  300.68  \n",
       "11      601.36  300.68  \n",
       "12      601.36  300.68  \n",
       "13      434.10  217.05  \n",
       "14      434.10  217.05  "
      ]
     },
     "execution_count": 39,
     "metadata": {},
     "output_type": "execute_result"
    }
   ],
   "source": [
    "# check few records of the dataset\n",
    "Transactions_df.head(15)"
   ]
  },
  {
   "cell_type": "code",
   "execution_count": 40,
   "id": "fd049e3c",
   "metadata": {},
   "outputs": [
    {
     "data": {
      "text/plain": [
       "(1000, 7)"
      ]
     },
     "execution_count": 40,
     "metadata": {},
     "output_type": "execute_result"
    }
   ],
   "source": [
    "#shape of the dataset\n",
    "Transactions_df.shape"
   ]
  },
  {
   "cell_type": "code",
   "execution_count": 41,
   "id": "59e23e09",
   "metadata": {},
   "outputs": [
    {
     "name": "stdout",
     "output_type": "stream",
     "text": [
      "<class 'pandas.core.frame.DataFrame'>\n",
      "RangeIndex: 1000 entries, 0 to 999\n",
      "Data columns (total 7 columns):\n",
      " #   Column           Non-Null Count  Dtype  \n",
      "---  ------           --------------  -----  \n",
      " 0   TransactionID    1000 non-null   object \n",
      " 1   CustomerID       1000 non-null   object \n",
      " 2   ProductID        1000 non-null   object \n",
      " 3   TransactionDate  1000 non-null   object \n",
      " 4   Quantity         1000 non-null   int64  \n",
      " 5   TotalValue       1000 non-null   float64\n",
      " 6   Price            1000 non-null   float64\n",
      "dtypes: float64(2), int64(1), object(4)\n",
      "memory usage: 54.8+ KB\n"
     ]
    }
   ],
   "source": [
    "# check the basic info of the dataset(not null values count )\n",
    "Transactions_df.info()"
   ]
  },
  {
   "cell_type": "code",
   "execution_count": 42,
   "id": "d57a0fe8",
   "metadata": {},
   "outputs": [
    {
     "name": "stdout",
     "output_type": "stream",
     "text": [
      " Is there any duplicate in the Summary DataFrame? False.\n"
     ]
    }
   ],
   "source": [
    "#checking if any duplicates\n",
    "print(f' Is there any duplicate in the Summary DataFrame? {products_df.duplicated().values.any()}.')"
   ]
  },
  {
   "cell_type": "code",
   "execution_count": 43,
   "id": "e12d4414",
   "metadata": {},
   "outputs": [
    {
     "data": {
      "text/html": [
       "<div>\n",
       "<style scoped>\n",
       "    .dataframe tbody tr th:only-of-type {\n",
       "        vertical-align: middle;\n",
       "    }\n",
       "\n",
       "    .dataframe tbody tr th {\n",
       "        vertical-align: top;\n",
       "    }\n",
       "\n",
       "    .dataframe thead th {\n",
       "        text-align: right;\n",
       "    }\n",
       "</style>\n",
       "<table border=\"1\" class=\"dataframe\">\n",
       "  <thead>\n",
       "    <tr style=\"text-align: right;\">\n",
       "      <th></th>\n",
       "      <th>Quantity</th>\n",
       "      <th>TotalValue</th>\n",
       "      <th>Price</th>\n",
       "    </tr>\n",
       "  </thead>\n",
       "  <tbody>\n",
       "    <tr>\n",
       "      <th>count</th>\n",
       "      <td>1000.000000</td>\n",
       "      <td>1000.000000</td>\n",
       "      <td>1000.00000</td>\n",
       "    </tr>\n",
       "    <tr>\n",
       "      <th>mean</th>\n",
       "      <td>2.537000</td>\n",
       "      <td>689.995560</td>\n",
       "      <td>272.55407</td>\n",
       "    </tr>\n",
       "    <tr>\n",
       "      <th>std</th>\n",
       "      <td>1.117981</td>\n",
       "      <td>493.144478</td>\n",
       "      <td>140.73639</td>\n",
       "    </tr>\n",
       "    <tr>\n",
       "      <th>min</th>\n",
       "      <td>1.000000</td>\n",
       "      <td>16.080000</td>\n",
       "      <td>16.08000</td>\n",
       "    </tr>\n",
       "    <tr>\n",
       "      <th>25%</th>\n",
       "      <td>2.000000</td>\n",
       "      <td>295.295000</td>\n",
       "      <td>147.95000</td>\n",
       "    </tr>\n",
       "    <tr>\n",
       "      <th>50%</th>\n",
       "      <td>3.000000</td>\n",
       "      <td>588.880000</td>\n",
       "      <td>299.93000</td>\n",
       "    </tr>\n",
       "    <tr>\n",
       "      <th>75%</th>\n",
       "      <td>4.000000</td>\n",
       "      <td>1011.660000</td>\n",
       "      <td>404.40000</td>\n",
       "    </tr>\n",
       "    <tr>\n",
       "      <th>max</th>\n",
       "      <td>4.000000</td>\n",
       "      <td>1991.040000</td>\n",
       "      <td>497.76000</td>\n",
       "    </tr>\n",
       "  </tbody>\n",
       "</table>\n",
       "</div>"
      ],
      "text/plain": [
       "          Quantity   TotalValue       Price\n",
       "count  1000.000000  1000.000000  1000.00000\n",
       "mean      2.537000   689.995560   272.55407\n",
       "std       1.117981   493.144478   140.73639\n",
       "min       1.000000    16.080000    16.08000\n",
       "25%       2.000000   295.295000   147.95000\n",
       "50%       3.000000   588.880000   299.93000\n",
       "75%       4.000000  1011.660000   404.40000\n",
       "max       4.000000  1991.040000   497.76000"
      ]
     },
     "execution_count": 43,
     "metadata": {},
     "output_type": "execute_result"
    }
   ],
   "source": [
    "Transactions_df.describe()"
   ]
  },
  {
   "cell_type": "code",
   "execution_count": 44,
   "id": "68d3c4dc",
   "metadata": {},
   "outputs": [
    {
     "data": {
      "text/plain": [
       "TransactionID      1000\n",
       "CustomerID          199\n",
       "ProductID           100\n",
       "TransactionDate    1000\n",
       "Quantity              4\n",
       "TotalValue          369\n",
       "Price               100\n",
       "dtype: int64"
      ]
     },
     "execution_count": 44,
     "metadata": {},
     "output_type": "execute_result"
    }
   ],
   "source": [
    "Transactions_df.nunique()"
   ]
  },
  {
   "cell_type": "markdown",
   "id": "b7acf571",
   "metadata": {},
   "source": [
    "# 4. WHAT IS THE TOTAL REVENUE GENERATED ?"
   ]
  },
  {
   "cell_type": "code",
   "execution_count": 45,
   "id": "82fdd93f",
   "metadata": {},
   "outputs": [
    {
     "name": "stdout",
     "output_type": "stream",
     "text": [
      "The total revenue is: 272554.07\n"
     ]
    }
   ],
   "source": [
    "revenue = Transactions_df['Price'].sum()\n",
    "print(f\"The total revenue is: {revenue}\")"
   ]
  },
  {
   "cell_type": "markdown",
   "id": "5e35aa9f",
   "metadata": {},
   "source": [
    "# MERGE customer & Transaction DATAFRAMES.\n",
    "\n"
   ]
  },
  {
   "cell_type": "markdown",
   "id": "8196ad4e",
   "metadata": {},
   "source": [
    "# 5.customer who have signedup but have not made transaction yet(Customer Churn)"
   ]
  },
  {
   "cell_type": "code",
   "execution_count": 46,
   "id": "fa03396c",
   "metadata": {},
   "outputs": [
    {
     "data": {
      "text/html": [
       "<div>\n",
       "<style scoped>\n",
       "    .dataframe tbody tr th:only-of-type {\n",
       "        vertical-align: middle;\n",
       "    }\n",
       "\n",
       "    .dataframe tbody tr th {\n",
       "        vertical-align: top;\n",
       "    }\n",
       "\n",
       "    .dataframe thead th {\n",
       "        text-align: right;\n",
       "    }\n",
       "</style>\n",
       "<table border=\"1\" class=\"dataframe\">\n",
       "  <thead>\n",
       "    <tr style=\"text-align: right;\">\n",
       "      <th></th>\n",
       "      <th>CustomerID</th>\n",
       "      <th>CustomerName</th>\n",
       "      <th>Region</th>\n",
       "      <th>SignupDate</th>\n",
       "      <th>SignupYear</th>\n",
       "      <th>TransactionID</th>\n",
       "      <th>ProductID</th>\n",
       "      <th>TransactionDate</th>\n",
       "      <th>Quantity</th>\n",
       "      <th>TotalValue</th>\n",
       "      <th>Price</th>\n",
       "    </tr>\n",
       "  </thead>\n",
       "  <tbody>\n",
       "    <tr>\n",
       "      <th>0</th>\n",
       "      <td>C0001</td>\n",
       "      <td>Lawrence Carroll</td>\n",
       "      <td>South America</td>\n",
       "      <td>2022-07-10</td>\n",
       "      <td>2022</td>\n",
       "      <td>T00015</td>\n",
       "      <td>P054</td>\n",
       "      <td>2024-01-19 03:12:55</td>\n",
       "      <td>2.0</td>\n",
       "      <td>114.60</td>\n",
       "      <td>57.30</td>\n",
       "    </tr>\n",
       "    <tr>\n",
       "      <th>1</th>\n",
       "      <td>C0001</td>\n",
       "      <td>Lawrence Carroll</td>\n",
       "      <td>South America</td>\n",
       "      <td>2022-07-10</td>\n",
       "      <td>2022</td>\n",
       "      <td>T00932</td>\n",
       "      <td>P022</td>\n",
       "      <td>2024-09-17 09:01:18</td>\n",
       "      <td>3.0</td>\n",
       "      <td>412.62</td>\n",
       "      <td>137.54</td>\n",
       "    </tr>\n",
       "    <tr>\n",
       "      <th>2</th>\n",
       "      <td>C0001</td>\n",
       "      <td>Lawrence Carroll</td>\n",
       "      <td>South America</td>\n",
       "      <td>2022-07-10</td>\n",
       "      <td>2022</td>\n",
       "      <td>T00085</td>\n",
       "      <td>P096</td>\n",
       "      <td>2024-04-08 00:01:00</td>\n",
       "      <td>2.0</td>\n",
       "      <td>614.94</td>\n",
       "      <td>307.47</td>\n",
       "    </tr>\n",
       "    <tr>\n",
       "      <th>3</th>\n",
       "      <td>C0001</td>\n",
       "      <td>Lawrence Carroll</td>\n",
       "      <td>South America</td>\n",
       "      <td>2022-07-10</td>\n",
       "      <td>2022</td>\n",
       "      <td>T00445</td>\n",
       "      <td>P083</td>\n",
       "      <td>2024-05-07 03:11:44</td>\n",
       "      <td>2.0</td>\n",
       "      <td>911.44</td>\n",
       "      <td>455.72</td>\n",
       "    </tr>\n",
       "    <tr>\n",
       "      <th>4</th>\n",
       "      <td>C0001</td>\n",
       "      <td>Lawrence Carroll</td>\n",
       "      <td>South America</td>\n",
       "      <td>2022-07-10</td>\n",
       "      <td>2022</td>\n",
       "      <td>T00436</td>\n",
       "      <td>P029</td>\n",
       "      <td>2024-11-02 17:04:16</td>\n",
       "      <td>3.0</td>\n",
       "      <td>1300.92</td>\n",
       "      <td>433.64</td>\n",
       "    </tr>\n",
       "  </tbody>\n",
       "</table>\n",
       "</div>"
      ],
      "text/plain": [
       "  CustomerID      CustomerName         Region  SignupDate  SignupYear  \\\n",
       "0      C0001  Lawrence Carroll  South America  2022-07-10        2022   \n",
       "1      C0001  Lawrence Carroll  South America  2022-07-10        2022   \n",
       "2      C0001  Lawrence Carroll  South America  2022-07-10        2022   \n",
       "3      C0001  Lawrence Carroll  South America  2022-07-10        2022   \n",
       "4      C0001  Lawrence Carroll  South America  2022-07-10        2022   \n",
       "\n",
       "  TransactionID ProductID      TransactionDate  Quantity  TotalValue   Price  \n",
       "0        T00015      P054  2024-01-19 03:12:55       2.0      114.60   57.30  \n",
       "1        T00932      P022  2024-09-17 09:01:18       3.0      412.62  137.54  \n",
       "2        T00085      P096  2024-04-08 00:01:00       2.0      614.94  307.47  \n",
       "3        T00445      P083  2024-05-07 03:11:44       2.0      911.44  455.72  \n",
       "4        T00436      P029  2024-11-02 17:04:16       3.0     1300.92  433.64  "
      ]
     },
     "execution_count": 46,
     "metadata": {},
     "output_type": "execute_result"
    }
   ],
   "source": [
    "merged_df01 = pd.merge(left = customer_df, right = Transactions_df,how = 'left', on = 'CustomerID' )\n",
    "\n",
    "merged_df01.head()"
   ]
  },
  {
   "cell_type": "code",
   "execution_count": 58,
   "id": "846f743a",
   "metadata": {},
   "outputs": [
    {
     "name": "stdout",
     "output_type": "stream",
     "text": [
      "    CustomerID   CustomerName Region  SignupDate\n",
      "904      C0180  Amy Carpenter   Asia  2023-10-25\n"
     ]
    }
   ],
   "source": [
    "# Filter customers who haven't made any transactions\n",
    "customers_no_transactions = merged_df01[merged_df01['TransactionID'].isna()]\n",
    "\n",
    "# Select only the customer-related columns\n",
    "customers_no_transactions = customers_no_transactions[['CustomerID', 'CustomerName', 'Region', 'SignupDate']]\n",
    "\n",
    "# Display the result\n",
    "print(customers_no_transactions)\n"
   ]
  },
  {
   "cell_type": "markdown",
   "id": "c6eb4c46",
   "metadata": {},
   "source": [
    "# 6.total value and price of each region."
   ]
  },
  {
   "cell_type": "code",
   "execution_count": 48,
   "id": "fad6de7b",
   "metadata": {},
   "outputs": [
    {
     "data": {
      "text/html": [
       "<div>\n",
       "<style scoped>\n",
       "    .dataframe tbody tr th:only-of-type {\n",
       "        vertical-align: middle;\n",
       "    }\n",
       "\n",
       "    .dataframe tbody tr th {\n",
       "        vertical-align: top;\n",
       "    }\n",
       "\n",
       "    .dataframe thead th {\n",
       "        text-align: right;\n",
       "    }\n",
       "</style>\n",
       "<table border=\"1\" class=\"dataframe\">\n",
       "  <thead>\n",
       "    <tr style=\"text-align: right;\">\n",
       "      <th></th>\n",
       "      <th>CustomerID</th>\n",
       "      <th>CustomerName</th>\n",
       "      <th>Region</th>\n",
       "      <th>SignupDate</th>\n",
       "      <th>SignupYear</th>\n",
       "      <th>TransactionID</th>\n",
       "      <th>ProductID</th>\n",
       "      <th>TransactionDate</th>\n",
       "      <th>Quantity</th>\n",
       "      <th>TotalValue</th>\n",
       "      <th>Price</th>\n",
       "    </tr>\n",
       "  </thead>\n",
       "  <tbody>\n",
       "    <tr>\n",
       "      <th>0</th>\n",
       "      <td>C0001</td>\n",
       "      <td>Lawrence Carroll</td>\n",
       "      <td>South America</td>\n",
       "      <td>2022-07-10</td>\n",
       "      <td>2022</td>\n",
       "      <td>T00015</td>\n",
       "      <td>P054</td>\n",
       "      <td>2024-01-19 03:12:55</td>\n",
       "      <td>2</td>\n",
       "      <td>114.60</td>\n",
       "      <td>57.30</td>\n",
       "    </tr>\n",
       "    <tr>\n",
       "      <th>1</th>\n",
       "      <td>C0001</td>\n",
       "      <td>Lawrence Carroll</td>\n",
       "      <td>South America</td>\n",
       "      <td>2022-07-10</td>\n",
       "      <td>2022</td>\n",
       "      <td>T00932</td>\n",
       "      <td>P022</td>\n",
       "      <td>2024-09-17 09:01:18</td>\n",
       "      <td>3</td>\n",
       "      <td>412.62</td>\n",
       "      <td>137.54</td>\n",
       "    </tr>\n",
       "    <tr>\n",
       "      <th>2</th>\n",
       "      <td>C0001</td>\n",
       "      <td>Lawrence Carroll</td>\n",
       "      <td>South America</td>\n",
       "      <td>2022-07-10</td>\n",
       "      <td>2022</td>\n",
       "      <td>T00085</td>\n",
       "      <td>P096</td>\n",
       "      <td>2024-04-08 00:01:00</td>\n",
       "      <td>2</td>\n",
       "      <td>614.94</td>\n",
       "      <td>307.47</td>\n",
       "    </tr>\n",
       "    <tr>\n",
       "      <th>3</th>\n",
       "      <td>C0001</td>\n",
       "      <td>Lawrence Carroll</td>\n",
       "      <td>South America</td>\n",
       "      <td>2022-07-10</td>\n",
       "      <td>2022</td>\n",
       "      <td>T00445</td>\n",
       "      <td>P083</td>\n",
       "      <td>2024-05-07 03:11:44</td>\n",
       "      <td>2</td>\n",
       "      <td>911.44</td>\n",
       "      <td>455.72</td>\n",
       "    </tr>\n",
       "    <tr>\n",
       "      <th>4</th>\n",
       "      <td>C0001</td>\n",
       "      <td>Lawrence Carroll</td>\n",
       "      <td>South America</td>\n",
       "      <td>2022-07-10</td>\n",
       "      <td>2022</td>\n",
       "      <td>T00436</td>\n",
       "      <td>P029</td>\n",
       "      <td>2024-11-02 17:04:16</td>\n",
       "      <td>3</td>\n",
       "      <td>1300.92</td>\n",
       "      <td>433.64</td>\n",
       "    </tr>\n",
       "  </tbody>\n",
       "</table>\n",
       "</div>"
      ],
      "text/plain": [
       "  CustomerID      CustomerName         Region  SignupDate  SignupYear  \\\n",
       "0      C0001  Lawrence Carroll  South America  2022-07-10        2022   \n",
       "1      C0001  Lawrence Carroll  South America  2022-07-10        2022   \n",
       "2      C0001  Lawrence Carroll  South America  2022-07-10        2022   \n",
       "3      C0001  Lawrence Carroll  South America  2022-07-10        2022   \n",
       "4      C0001  Lawrence Carroll  South America  2022-07-10        2022   \n",
       "\n",
       "  TransactionID ProductID      TransactionDate  Quantity  TotalValue   Price  \n",
       "0        T00015      P054  2024-01-19 03:12:55         2      114.60   57.30  \n",
       "1        T00932      P022  2024-09-17 09:01:18         3      412.62  137.54  \n",
       "2        T00085      P096  2024-04-08 00:01:00         2      614.94  307.47  \n",
       "3        T00445      P083  2024-05-07 03:11:44         2      911.44  455.72  \n",
       "4        T00436      P029  2024-11-02 17:04:16         3     1300.92  433.64  "
      ]
     },
     "execution_count": 48,
     "metadata": {},
     "output_type": "execute_result"
    }
   ],
   "source": [
    "merged_df = pd.merge(left = customer_df, right = Transactions_df,how = 'inner', on = 'CustomerID' )\n",
    "\n",
    "merged_df.head()"
   ]
  },
  {
   "cell_type": "code",
   "execution_count": 49,
   "id": "c964d45b",
   "metadata": {},
   "outputs": [
    {
     "data": {
      "text/html": [
       "<div>\n",
       "<style scoped>\n",
       "    .dataframe tbody tr th:only-of-type {\n",
       "        vertical-align: middle;\n",
       "    }\n",
       "\n",
       "    .dataframe tbody tr th {\n",
       "        vertical-align: top;\n",
       "    }\n",
       "\n",
       "    .dataframe thead th {\n",
       "        text-align: right;\n",
       "    }\n",
       "</style>\n",
       "<table border=\"1\" class=\"dataframe\">\n",
       "  <thead>\n",
       "    <tr style=\"text-align: right;\">\n",
       "      <th></th>\n",
       "      <th>TotalValue</th>\n",
       "      <th>Price</th>\n",
       "    </tr>\n",
       "    <tr>\n",
       "      <th>Region</th>\n",
       "      <th></th>\n",
       "      <th></th>\n",
       "    </tr>\n",
       "  </thead>\n",
       "  <tbody>\n",
       "    <tr>\n",
       "      <th>South America</th>\n",
       "      <td>219352.56</td>\n",
       "      <td>84211.82</td>\n",
       "    </tr>\n",
       "    <tr>\n",
       "      <th>Europe</th>\n",
       "      <td>166254.63</td>\n",
       "      <td>64483.15</td>\n",
       "    </tr>\n",
       "    <tr>\n",
       "      <th>North America</th>\n",
       "      <td>152313.40</td>\n",
       "      <td>64719.07</td>\n",
       "    </tr>\n",
       "    <tr>\n",
       "      <th>Asia</th>\n",
       "      <td>152074.97</td>\n",
       "      <td>59140.03</td>\n",
       "    </tr>\n",
       "  </tbody>\n",
       "</table>\n",
       "</div>"
      ],
      "text/plain": [
       "               TotalValue     Price\n",
       "Region                             \n",
       "South America   219352.56  84211.82\n",
       "Europe          166254.63  64483.15\n",
       "North America   152313.40  64719.07\n",
       "Asia            152074.97  59140.03"
      ]
     },
     "execution_count": 49,
     "metadata": {},
     "output_type": "execute_result"
    }
   ],
   "source": [
    "regional_profit = merged_df.groupby('Region')[[\n",
    "    'TotalValue',\n",
    "    'Price'\n",
    "]].sum()\n",
    "\n",
    "regional_profit.sort_values(\n",
    "    by = 'TotalValue', \n",
    "    ascending = False\n",
    ")"
   ]
  },
  {
   "cell_type": "markdown",
   "id": "2a903fde",
   "metadata": {},
   "source": [
    "# Total spending,number of transactions made , number of unique products buyed by each customer"
   ]
  },
  {
   "cell_type": "code",
   "execution_count": 60,
   "id": "ea164031",
   "metadata": {},
   "outputs": [],
   "source": [
    "# Aggregate transactional data for customer profiles\n",
    "customer_transactions = Transactions_df.groupby('CustomerID').agg({\n",
    "    'TotalValue': 'sum',       # Total spending\n",
    "    'TransactionID': 'count',  # Number of transactions\n",
    "    'ProductID': lambda x: x.nunique()  # Unique products purchased\n",
    "}).rename(columns={\n",
    "    'TotalValue': 'TotalSpending',\n",
    "    'TransactionID': 'TransactionCount',\n",
    "    'ProductID': 'UniqueProducts'\n",
    "}).reset_index()"
   ]
  },
  {
   "cell_type": "code",
   "execution_count": 61,
   "id": "0da7de7b",
   "metadata": {},
   "outputs": [
    {
     "name": "stdout",
     "output_type": "stream",
     "text": [
      "    CustomerID  TotalSpending  TransactionCount  UniqueProducts\n",
      "0        C0001        3354.52                 5               5\n",
      "1        C0002        1862.74                 4               4\n",
      "2        C0003        2725.38                 4               4\n",
      "3        C0004        5354.88                 8               8\n",
      "4        C0005        2034.24                 3               3\n",
      "..         ...            ...               ...             ...\n",
      "194      C0196        4982.88                 4               3\n",
      "195      C0197        1928.65                 3               3\n",
      "196      C0198         931.83                 2               2\n",
      "197      C0199        1979.28                 4               4\n",
      "198      C0200        4758.60                 5               5\n",
      "\n",
      "[199 rows x 4 columns]\n"
     ]
    }
   ],
   "source": [
    "print(customer_transactions)"
   ]
  },
  {
   "cell_type": "markdown",
   "id": "a8f8b79f",
   "metadata": {},
   "source": [
    "# MERGE Products & Transaction DATAFRAMES."
   ]
  },
  {
   "cell_type": "code",
   "execution_count": 50,
   "id": "9f143e31",
   "metadata": {},
   "outputs": [
    {
     "data": {
      "text/html": [
       "<div>\n",
       "<style scoped>\n",
       "    .dataframe tbody tr th:only-of-type {\n",
       "        vertical-align: middle;\n",
       "    }\n",
       "\n",
       "    .dataframe tbody tr th {\n",
       "        vertical-align: top;\n",
       "    }\n",
       "\n",
       "    .dataframe thead th {\n",
       "        text-align: right;\n",
       "    }\n",
       "</style>\n",
       "<table border=\"1\" class=\"dataframe\">\n",
       "  <thead>\n",
       "    <tr style=\"text-align: right;\">\n",
       "      <th></th>\n",
       "      <th>ProductID</th>\n",
       "      <th>ProductName</th>\n",
       "      <th>Category</th>\n",
       "      <th>Price_x</th>\n",
       "      <th>TransactionID</th>\n",
       "      <th>CustomerID</th>\n",
       "      <th>TransactionDate</th>\n",
       "      <th>Quantity</th>\n",
       "      <th>TotalValue</th>\n",
       "      <th>Price_y</th>\n",
       "    </tr>\n",
       "  </thead>\n",
       "  <tbody>\n",
       "    <tr>\n",
       "      <th>0</th>\n",
       "      <td>P001</td>\n",
       "      <td>ActiveWear Biography</td>\n",
       "      <td>Books</td>\n",
       "      <td>169.3</td>\n",
       "      <td>T00088</td>\n",
       "      <td>C0019</td>\n",
       "      <td>2024-01-30 17:23:03</td>\n",
       "      <td>2</td>\n",
       "      <td>338.6</td>\n",
       "      <td>169.3</td>\n",
       "    </tr>\n",
       "    <tr>\n",
       "      <th>1</th>\n",
       "      <td>P001</td>\n",
       "      <td>ActiveWear Biography</td>\n",
       "      <td>Books</td>\n",
       "      <td>169.3</td>\n",
       "      <td>T00314</td>\n",
       "      <td>C0024</td>\n",
       "      <td>2024-09-24 17:15:16</td>\n",
       "      <td>4</td>\n",
       "      <td>677.2</td>\n",
       "      <td>169.3</td>\n",
       "    </tr>\n",
       "    <tr>\n",
       "      <th>2</th>\n",
       "      <td>P001</td>\n",
       "      <td>ActiveWear Biography</td>\n",
       "      <td>Books</td>\n",
       "      <td>169.3</td>\n",
       "      <td>T00428</td>\n",
       "      <td>C0071</td>\n",
       "      <td>2024-08-02 08:13:23</td>\n",
       "      <td>2</td>\n",
       "      <td>338.6</td>\n",
       "      <td>169.3</td>\n",
       "    </tr>\n",
       "    <tr>\n",
       "      <th>3</th>\n",
       "      <td>P001</td>\n",
       "      <td>ActiveWear Biography</td>\n",
       "      <td>Books</td>\n",
       "      <td>169.3</td>\n",
       "      <td>T00433</td>\n",
       "      <td>C0036</td>\n",
       "      <td>2024-05-05 05:01:18</td>\n",
       "      <td>2</td>\n",
       "      <td>338.6</td>\n",
       "      <td>169.3</td>\n",
       "    </tr>\n",
       "    <tr>\n",
       "      <th>4</th>\n",
       "      <td>P001</td>\n",
       "      <td>ActiveWear Biography</td>\n",
       "      <td>Books</td>\n",
       "      <td>169.3</td>\n",
       "      <td>T00449</td>\n",
       "      <td>C0191</td>\n",
       "      <td>2024-12-12 12:17:38</td>\n",
       "      <td>1</td>\n",
       "      <td>169.3</td>\n",
       "      <td>169.3</td>\n",
       "    </tr>\n",
       "  </tbody>\n",
       "</table>\n",
       "</div>"
      ],
      "text/plain": [
       "  ProductID           ProductName Category  Price_x TransactionID CustomerID  \\\n",
       "0      P001  ActiveWear Biography    Books    169.3        T00088      C0019   \n",
       "1      P001  ActiveWear Biography    Books    169.3        T00314      C0024   \n",
       "2      P001  ActiveWear Biography    Books    169.3        T00428      C0071   \n",
       "3      P001  ActiveWear Biography    Books    169.3        T00433      C0036   \n",
       "4      P001  ActiveWear Biography    Books    169.3        T00449      C0191   \n",
       "\n",
       "       TransactionDate  Quantity  TotalValue  Price_y  \n",
       "0  2024-01-30 17:23:03         2       338.6    169.3  \n",
       "1  2024-09-24 17:15:16         4       677.2    169.3  \n",
       "2  2024-08-02 08:13:23         2       338.6    169.3  \n",
       "3  2024-05-05 05:01:18         2       338.6    169.3  \n",
       "4  2024-12-12 12:17:38         1       169.3    169.3  "
      ]
     },
     "execution_count": 50,
     "metadata": {},
     "output_type": "execute_result"
    }
   ],
   "source": [
    "merged_df1 = pd.merge(left = products_df, right = Transactions_df,how = 'inner', on = 'ProductID' )\n",
    "\n",
    "merged_df1.head()"
   ]
  },
  {
   "cell_type": "markdown",
   "id": "f33f8fca",
   "metadata": {},
   "source": [
    "# 7. WHAT IS THE MOST POPULAR CATEGORY SOLD?."
   ]
  },
  {
   "cell_type": "code",
   "execution_count": 51,
   "id": "10e9dd29",
   "metadata": {},
   "outputs": [
    {
     "data": {
      "text/html": [
       "<div>\n",
       "<style scoped>\n",
       "    .dataframe tbody tr th:only-of-type {\n",
       "        vertical-align: middle;\n",
       "    }\n",
       "\n",
       "    .dataframe tbody tr th {\n",
       "        vertical-align: top;\n",
       "    }\n",
       "\n",
       "    .dataframe thead th {\n",
       "        text-align: right;\n",
       "    }\n",
       "</style>\n",
       "<table border=\"1\" class=\"dataframe\">\n",
       "  <thead>\n",
       "    <tr style=\"text-align: right;\">\n",
       "      <th></th>\n",
       "      <th>Quantity</th>\n",
       "      <th>Price_y</th>\n",
       "    </tr>\n",
       "    <tr>\n",
       "      <th>Category</th>\n",
       "      <th></th>\n",
       "      <th></th>\n",
       "    </tr>\n",
       "  </thead>\n",
       "  <tbody>\n",
       "    <tr>\n",
       "      <th>Books</th>\n",
       "      <td>681</td>\n",
       "      <td>75742.08</td>\n",
       "    </tr>\n",
       "    <tr>\n",
       "      <th>Home Decor</th>\n",
       "      <td>639</td>\n",
       "      <td>58928.83</td>\n",
       "    </tr>\n",
       "    <tr>\n",
       "      <th>Electronics</th>\n",
       "      <td>627</td>\n",
       "      <td>73335.39</td>\n",
       "    </tr>\n",
       "    <tr>\n",
       "      <th>Clothing</th>\n",
       "      <td>590</td>\n",
       "      <td>64547.77</td>\n",
       "    </tr>\n",
       "  </tbody>\n",
       "</table>\n",
       "</div>"
      ],
      "text/plain": [
       "             Quantity   Price_y\n",
       "Category                       \n",
       "Books             681  75742.08\n",
       "Home Decor        639  58928.83\n",
       "Electronics       627  73335.39\n",
       "Clothing          590  64547.77"
      ]
     },
     "execution_count": 51,
     "metadata": {},
     "output_type": "execute_result"
    }
   ],
   "source": [
    "most_sold = merged_df1.groupby('Category')[[\n",
    "    'Quantity',\n",
    "    'Price_y'\n",
    "]].sum()\n",
    "\n",
    "most_sold.sort_values(\n",
    "    by = 'Quantity', \n",
    "    ascending = False\n",
    ")"
   ]
  },
  {
   "cell_type": "markdown",
   "id": "3ec1e0b4",
   "metadata": {},
   "source": [
    "# 8. WHAT IS THE MOST POPULAR PRODUCT SOLD?."
   ]
  },
  {
   "cell_type": "code",
   "execution_count": 52,
   "id": "f30bcc53",
   "metadata": {},
   "outputs": [
    {
     "data": {
      "text/html": [
       "<div>\n",
       "<style scoped>\n",
       "    .dataframe tbody tr th:only-of-type {\n",
       "        vertical-align: middle;\n",
       "    }\n",
       "\n",
       "    .dataframe tbody tr th {\n",
       "        vertical-align: top;\n",
       "    }\n",
       "\n",
       "    .dataframe thead th {\n",
       "        text-align: right;\n",
       "    }\n",
       "</style>\n",
       "<table border=\"1\" class=\"dataframe\">\n",
       "  <thead>\n",
       "    <tr style=\"text-align: right;\">\n",
       "      <th></th>\n",
       "      <th>Quantity</th>\n",
       "      <th>Price_y</th>\n",
       "    </tr>\n",
       "    <tr>\n",
       "      <th>ProductName</th>\n",
       "      <th></th>\n",
       "      <th></th>\n",
       "    </tr>\n",
       "  </thead>\n",
       "  <tbody>\n",
       "    <tr>\n",
       "      <th>ActiveWear Smartwatch</th>\n",
       "      <td>100</td>\n",
       "      <td>15977.27</td>\n",
       "    </tr>\n",
       "    <tr>\n",
       "      <th>SoundWave Headphones</th>\n",
       "      <td>97</td>\n",
       "      <td>10025.71</td>\n",
       "    </tr>\n",
       "    <tr>\n",
       "      <th>HomeSense Desk Lamp</th>\n",
       "      <td>81</td>\n",
       "      <td>5338.32</td>\n",
       "    </tr>\n",
       "    <tr>\n",
       "      <th>ActiveWear Rug</th>\n",
       "      <td>79</td>\n",
       "      <td>8255.08</td>\n",
       "    </tr>\n",
       "    <tr>\n",
       "      <th>SoundWave Cookbook</th>\n",
       "      <td>78</td>\n",
       "      <td>5971.30</td>\n",
       "    </tr>\n",
       "    <tr>\n",
       "      <th>...</th>\n",
       "      <td>...</td>\n",
       "      <td>...</td>\n",
       "    </tr>\n",
       "    <tr>\n",
       "      <th>HomeSense Headphones</th>\n",
       "      <td>18</td>\n",
       "      <td>1271.44</td>\n",
       "    </tr>\n",
       "    <tr>\n",
       "      <th>SoundWave Laptop</th>\n",
       "      <td>16</td>\n",
       "      <td>2099.51</td>\n",
       "    </tr>\n",
       "    <tr>\n",
       "      <th>SoundWave Jacket</th>\n",
       "      <td>16</td>\n",
       "      <td>1774.05</td>\n",
       "    </tr>\n",
       "    <tr>\n",
       "      <th>BookWorld Wall Art</th>\n",
       "      <td>15</td>\n",
       "      <td>2275.07</td>\n",
       "    </tr>\n",
       "    <tr>\n",
       "      <th>ComfortLiving Headphones</th>\n",
       "      <td>15</td>\n",
       "      <td>1276.80</td>\n",
       "    </tr>\n",
       "  </tbody>\n",
       "</table>\n",
       "<p>66 rows × 2 columns</p>\n",
       "</div>"
      ],
      "text/plain": [
       "                          Quantity   Price_y\n",
       "ProductName                                 \n",
       "ActiveWear Smartwatch          100  15977.27\n",
       "SoundWave Headphones            97  10025.71\n",
       "HomeSense Desk Lamp             81   5338.32\n",
       "ActiveWear Rug                  79   8255.08\n",
       "SoundWave Cookbook              78   5971.30\n",
       "...                            ...       ...\n",
       "HomeSense Headphones            18   1271.44\n",
       "SoundWave Laptop                16   2099.51\n",
       "SoundWave Jacket                16   1774.05\n",
       "BookWorld Wall Art              15   2275.07\n",
       "ComfortLiving Headphones        15   1276.80\n",
       "\n",
       "[66 rows x 2 columns]"
      ]
     },
     "execution_count": 52,
     "metadata": {},
     "output_type": "execute_result"
    }
   ],
   "source": [
    "most_sold1 = merged_df1.groupby('ProductName')[[\n",
    "    'Quantity',\n",
    "    'Price_y'\n",
    "]].sum()\n",
    "\n",
    "most_sold1.sort_values(\n",
    "    by = 'Quantity', \n",
    "    ascending = False\n",
    ")"
   ]
  },
  {
   "cell_type": "markdown",
   "id": "d158bc96",
   "metadata": {},
   "source": [
    "# 9. WHAT ARE THE TOP CATEGORIES  IN TERMS OF REVENUE?.\n",
    "AND TOTAL REVENUE GENERATED PER CATEGORY\n"
   ]
  },
  {
   "cell_type": "code",
   "execution_count": 53,
   "id": "88667ba4",
   "metadata": {},
   "outputs": [
    {
     "data": {
      "text/html": [
       "<div>\n",
       "<style scoped>\n",
       "    .dataframe tbody tr th:only-of-type {\n",
       "        vertical-align: middle;\n",
       "    }\n",
       "\n",
       "    .dataframe tbody tr th {\n",
       "        vertical-align: top;\n",
       "    }\n",
       "\n",
       "    .dataframe thead th {\n",
       "        text-align: right;\n",
       "    }\n",
       "</style>\n",
       "<table border=\"1\" class=\"dataframe\">\n",
       "  <thead>\n",
       "    <tr style=\"text-align: right;\">\n",
       "      <th></th>\n",
       "      <th>Quantity</th>\n",
       "      <th>Price_y</th>\n",
       "    </tr>\n",
       "    <tr>\n",
       "      <th>Category</th>\n",
       "      <th></th>\n",
       "      <th></th>\n",
       "    </tr>\n",
       "  </thead>\n",
       "  <tbody>\n",
       "    <tr>\n",
       "      <th>Books</th>\n",
       "      <td>681</td>\n",
       "      <td>75742.08</td>\n",
       "    </tr>\n",
       "    <tr>\n",
       "      <th>Electronics</th>\n",
       "      <td>627</td>\n",
       "      <td>73335.39</td>\n",
       "    </tr>\n",
       "    <tr>\n",
       "      <th>Clothing</th>\n",
       "      <td>590</td>\n",
       "      <td>64547.77</td>\n",
       "    </tr>\n",
       "    <tr>\n",
       "      <th>Home Decor</th>\n",
       "      <td>639</td>\n",
       "      <td>58928.83</td>\n",
       "    </tr>\n",
       "  </tbody>\n",
       "</table>\n",
       "</div>"
      ],
      "text/plain": [
       "             Quantity   Price_y\n",
       "Category                       \n",
       "Books             681  75742.08\n",
       "Electronics       627  73335.39\n",
       "Clothing          590  64547.77\n",
       "Home Decor        639  58928.83"
      ]
     },
     "execution_count": 53,
     "metadata": {},
     "output_type": "execute_result"
    }
   ],
   "source": [
    "top_categories = merged_df1.groupby('Category')[[\n",
    "    'Quantity',\n",
    "    'Price_y'\n",
    "]].sum()\n",
    "\n",
    "top_categories.sort_values(\n",
    "    by = 'Price_y',\n",
    "    ascending = False\n",
    ")"
   ]
  },
  {
   "cell_type": "markdown",
   "id": "9109ba37",
   "metadata": {},
   "source": [
    "# 10. WHAT ARE THE TOP products IN TERMS OF REVENUE?.\n",
    "\n",
    "MOST POPULAR PRODUCT IN TERMS OF SALES"
   ]
  },
  {
   "cell_type": "code",
   "execution_count": 54,
   "id": "d0f753a4",
   "metadata": {},
   "outputs": [
    {
     "data": {
      "text/html": [
       "<div>\n",
       "<style scoped>\n",
       "    .dataframe tbody tr th:only-of-type {\n",
       "        vertical-align: middle;\n",
       "    }\n",
       "\n",
       "    .dataframe tbody tr th {\n",
       "        vertical-align: top;\n",
       "    }\n",
       "\n",
       "    .dataframe thead th {\n",
       "        text-align: right;\n",
       "    }\n",
       "</style>\n",
       "<table border=\"1\" class=\"dataframe\">\n",
       "  <thead>\n",
       "    <tr style=\"text-align: right;\">\n",
       "      <th></th>\n",
       "      <th>Quantity</th>\n",
       "      <th>Price_y</th>\n",
       "    </tr>\n",
       "    <tr>\n",
       "      <th>ProductName</th>\n",
       "      <th></th>\n",
       "      <th></th>\n",
       "    </tr>\n",
       "  </thead>\n",
       "  <tbody>\n",
       "    <tr>\n",
       "      <th>ActiveWear Smartwatch</th>\n",
       "      <td>100</td>\n",
       "      <td>15977.27</td>\n",
       "    </tr>\n",
       "    <tr>\n",
       "      <th>SoundWave Headphones</th>\n",
       "      <td>97</td>\n",
       "      <td>10025.71</td>\n",
       "    </tr>\n",
       "    <tr>\n",
       "      <th>SoundWave Novel</th>\n",
       "      <td>58</td>\n",
       "      <td>8414.70</td>\n",
       "    </tr>\n",
       "    <tr>\n",
       "      <th>ActiveWear Rug</th>\n",
       "      <td>79</td>\n",
       "      <td>8255.08</td>\n",
       "    </tr>\n",
       "    <tr>\n",
       "      <th>BookWorld Cookbook</th>\n",
       "      <td>48</td>\n",
       "      <td>8248.99</td>\n",
       "    </tr>\n",
       "    <tr>\n",
       "      <th>...</th>\n",
       "      <td>...</td>\n",
       "      <td>...</td>\n",
       "    </tr>\n",
       "    <tr>\n",
       "      <th>ComfortLiving Desk Lamp</th>\n",
       "      <td>26</td>\n",
       "      <td>651.60</td>\n",
       "    </tr>\n",
       "    <tr>\n",
       "      <th>SoundWave Bluetooth Speaker</th>\n",
       "      <td>19</td>\n",
       "      <td>450.66</td>\n",
       "    </tr>\n",
       "    <tr>\n",
       "      <th>ComfortLiving Rug</th>\n",
       "      <td>19</td>\n",
       "      <td>447.92</td>\n",
       "    </tr>\n",
       "    <tr>\n",
       "      <th>ActiveWear T-Shirt</th>\n",
       "      <td>26</td>\n",
       "      <td>305.90</td>\n",
       "    </tr>\n",
       "    <tr>\n",
       "      <th>ComfortLiving Laptop</th>\n",
       "      <td>24</td>\n",
       "      <td>269.90</td>\n",
       "    </tr>\n",
       "  </tbody>\n",
       "</table>\n",
       "<p>66 rows × 2 columns</p>\n",
       "</div>"
      ],
      "text/plain": [
       "                             Quantity   Price_y\n",
       "ProductName                                    \n",
       "ActiveWear Smartwatch             100  15977.27\n",
       "SoundWave Headphones               97  10025.71\n",
       "SoundWave Novel                    58   8414.70\n",
       "ActiveWear Rug                     79   8255.08\n",
       "BookWorld Cookbook                 48   8248.99\n",
       "...                               ...       ...\n",
       "ComfortLiving Desk Lamp            26    651.60\n",
       "SoundWave Bluetooth Speaker        19    450.66\n",
       "ComfortLiving Rug                  19    447.92\n",
       "ActiveWear T-Shirt                 26    305.90\n",
       "ComfortLiving Laptop               24    269.90\n",
       "\n",
       "[66 rows x 2 columns]"
      ]
     },
     "execution_count": 54,
     "metadata": {},
     "output_type": "execute_result"
    }
   ],
   "source": [
    "top_products = merged_df1.groupby('ProductName')[[\n",
    "    'Quantity',\n",
    "    'Price_y'\n",
    "]].sum()\n",
    "\n",
    "top_products.sort_values(\n",
    "    by = 'Price_y',\n",
    "    ascending = False\n",
    ")"
   ]
  },
  {
   "cell_type": "code",
   "execution_count": null,
   "id": "80ef084c",
   "metadata": {},
   "outputs": [],
   "source": []
  },
  {
   "cell_type": "code",
   "execution_count": null,
   "id": "887519c5",
   "metadata": {},
   "outputs": [],
   "source": []
  },
  {
   "cell_type": "code",
   "execution_count": null,
   "id": "6457a148",
   "metadata": {},
   "outputs": [],
   "source": []
  }
 ],
 "metadata": {
  "kernelspec": {
   "display_name": "Python 3 (ipykernel)",
   "language": "python",
   "name": "python3"
  },
  "language_info": {
   "codemirror_mode": {
    "name": "ipython",
    "version": 3
   },
   "file_extension": ".py",
   "mimetype": "text/x-python",
   "name": "python",
   "nbconvert_exporter": "python",
   "pygments_lexer": "ipython3",
   "version": "3.9.12"
  }
 },
 "nbformat": 4,
 "nbformat_minor": 5
}
