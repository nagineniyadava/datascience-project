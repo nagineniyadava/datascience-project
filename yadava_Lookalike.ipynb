{
 "cells": [
  {
   "cell_type": "code",
   "execution_count": 43,
   "id": "19e07ab1",
   "metadata": {},
   "outputs": [],
   "source": [
    "import pandas as pd\n",
    "from sklearn.preprocessing import MinMaxScaler\n",
    "from sklearn.metrics.pairwise import cosine_similarity\n",
    "import numpy as np"
   ]
  },
  {
   "cell_type": "code",
   "execution_count": 44,
   "id": "50a6e9f8",
   "metadata": {},
   "outputs": [],
   "source": [
    "# Step 1: Load Datasets\n",
    "customers_df = pd.read_csv('Customers.csv')\n",
    "products_df = pd.read_csv('Products.csv')\n",
    "transactions_df = pd.read_csv('Transactions.csv')"
   ]
  },
  {
   "cell_type": "code",
   "execution_count": 45,
   "id": "5c57fd7c",
   "metadata": {},
   "outputs": [
    {
     "data": {
      "text/html": [
       "<div>\n",
       "<style scoped>\n",
       "    .dataframe tbody tr th:only-of-type {\n",
       "        vertical-align: middle;\n",
       "    }\n",
       "\n",
       "    .dataframe tbody tr th {\n",
       "        vertical-align: top;\n",
       "    }\n",
       "\n",
       "    .dataframe thead th {\n",
       "        text-align: right;\n",
       "    }\n",
       "</style>\n",
       "<table border=\"1\" class=\"dataframe\">\n",
       "  <thead>\n",
       "    <tr style=\"text-align: right;\">\n",
       "      <th></th>\n",
       "      <th>CustomerID</th>\n",
       "      <th>CustomerName</th>\n",
       "      <th>Region</th>\n",
       "      <th>SignupDate</th>\n",
       "    </tr>\n",
       "  </thead>\n",
       "  <tbody>\n",
       "    <tr>\n",
       "      <th>0</th>\n",
       "      <td>C0001</td>\n",
       "      <td>Lawrence Carroll</td>\n",
       "      <td>South America</td>\n",
       "      <td>2022-07-10</td>\n",
       "    </tr>\n",
       "    <tr>\n",
       "      <th>1</th>\n",
       "      <td>C0002</td>\n",
       "      <td>Elizabeth Lutz</td>\n",
       "      <td>Asia</td>\n",
       "      <td>2022-02-13</td>\n",
       "    </tr>\n",
       "    <tr>\n",
       "      <th>2</th>\n",
       "      <td>C0003</td>\n",
       "      <td>Michael Rivera</td>\n",
       "      <td>South America</td>\n",
       "      <td>2024-03-07</td>\n",
       "    </tr>\n",
       "    <tr>\n",
       "      <th>3</th>\n",
       "      <td>C0004</td>\n",
       "      <td>Kathleen Rodriguez</td>\n",
       "      <td>South America</td>\n",
       "      <td>2022-10-09</td>\n",
       "    </tr>\n",
       "    <tr>\n",
       "      <th>4</th>\n",
       "      <td>C0005</td>\n",
       "      <td>Laura Weber</td>\n",
       "      <td>Asia</td>\n",
       "      <td>2022-08-15</td>\n",
       "    </tr>\n",
       "  </tbody>\n",
       "</table>\n",
       "</div>"
      ],
      "text/plain": [
       "  CustomerID        CustomerName         Region  SignupDate\n",
       "0      C0001    Lawrence Carroll  South America  2022-07-10\n",
       "1      C0002      Elizabeth Lutz           Asia  2022-02-13\n",
       "2      C0003      Michael Rivera  South America  2024-03-07\n",
       "3      C0004  Kathleen Rodriguez  South America  2022-10-09\n",
       "4      C0005         Laura Weber           Asia  2022-08-15"
      ]
     },
     "execution_count": 45,
     "metadata": {},
     "output_type": "execute_result"
    }
   ],
   "source": [
    "# check few records of the dataset\n",
    "customers_df.head()"
   ]
  },
  {
   "cell_type": "code",
   "execution_count": 46,
   "id": "caf801c3",
   "metadata": {},
   "outputs": [
    {
     "data": {
      "text/html": [
       "<div>\n",
       "<style scoped>\n",
       "    .dataframe tbody tr th:only-of-type {\n",
       "        vertical-align: middle;\n",
       "    }\n",
       "\n",
       "    .dataframe tbody tr th {\n",
       "        vertical-align: top;\n",
       "    }\n",
       "\n",
       "    .dataframe thead th {\n",
       "        text-align: right;\n",
       "    }\n",
       "</style>\n",
       "<table border=\"1\" class=\"dataframe\">\n",
       "  <thead>\n",
       "    <tr style=\"text-align: right;\">\n",
       "      <th></th>\n",
       "      <th>ProductID</th>\n",
       "      <th>ProductName</th>\n",
       "      <th>Category</th>\n",
       "      <th>Price</th>\n",
       "    </tr>\n",
       "  </thead>\n",
       "  <tbody>\n",
       "    <tr>\n",
       "      <th>0</th>\n",
       "      <td>P001</td>\n",
       "      <td>ActiveWear Biography</td>\n",
       "      <td>Books</td>\n",
       "      <td>169.30</td>\n",
       "    </tr>\n",
       "    <tr>\n",
       "      <th>1</th>\n",
       "      <td>P002</td>\n",
       "      <td>ActiveWear Smartwatch</td>\n",
       "      <td>Electronics</td>\n",
       "      <td>346.30</td>\n",
       "    </tr>\n",
       "    <tr>\n",
       "      <th>2</th>\n",
       "      <td>P003</td>\n",
       "      <td>ComfortLiving Biography</td>\n",
       "      <td>Books</td>\n",
       "      <td>44.12</td>\n",
       "    </tr>\n",
       "    <tr>\n",
       "      <th>3</th>\n",
       "      <td>P004</td>\n",
       "      <td>BookWorld Rug</td>\n",
       "      <td>Home Decor</td>\n",
       "      <td>95.69</td>\n",
       "    </tr>\n",
       "    <tr>\n",
       "      <th>4</th>\n",
       "      <td>P005</td>\n",
       "      <td>TechPro T-Shirt</td>\n",
       "      <td>Clothing</td>\n",
       "      <td>429.31</td>\n",
       "    </tr>\n",
       "  </tbody>\n",
       "</table>\n",
       "</div>"
      ],
      "text/plain": [
       "  ProductID              ProductName     Category   Price\n",
       "0      P001     ActiveWear Biography        Books  169.30\n",
       "1      P002    ActiveWear Smartwatch  Electronics  346.30\n",
       "2      P003  ComfortLiving Biography        Books   44.12\n",
       "3      P004            BookWorld Rug   Home Decor   95.69\n",
       "4      P005          TechPro T-Shirt     Clothing  429.31"
      ]
     },
     "execution_count": 46,
     "metadata": {},
     "output_type": "execute_result"
    }
   ],
   "source": [
    "products_df.head()"
   ]
  },
  {
   "cell_type": "code",
   "execution_count": 47,
   "id": "41325e57",
   "metadata": {},
   "outputs": [
    {
     "data": {
      "text/html": [
       "<div>\n",
       "<style scoped>\n",
       "    .dataframe tbody tr th:only-of-type {\n",
       "        vertical-align: middle;\n",
       "    }\n",
       "\n",
       "    .dataframe tbody tr th {\n",
       "        vertical-align: top;\n",
       "    }\n",
       "\n",
       "    .dataframe thead th {\n",
       "        text-align: right;\n",
       "    }\n",
       "</style>\n",
       "<table border=\"1\" class=\"dataframe\">\n",
       "  <thead>\n",
       "    <tr style=\"text-align: right;\">\n",
       "      <th></th>\n",
       "      <th>TransactionID</th>\n",
       "      <th>CustomerID</th>\n",
       "      <th>ProductID</th>\n",
       "      <th>TransactionDate</th>\n",
       "      <th>Quantity</th>\n",
       "      <th>TotalValue</th>\n",
       "      <th>Price</th>\n",
       "    </tr>\n",
       "  </thead>\n",
       "  <tbody>\n",
       "    <tr>\n",
       "      <th>0</th>\n",
       "      <td>T00001</td>\n",
       "      <td>C0199</td>\n",
       "      <td>P067</td>\n",
       "      <td>2024-08-25 12:38:23</td>\n",
       "      <td>1</td>\n",
       "      <td>300.68</td>\n",
       "      <td>300.68</td>\n",
       "    </tr>\n",
       "    <tr>\n",
       "      <th>1</th>\n",
       "      <td>T00112</td>\n",
       "      <td>C0146</td>\n",
       "      <td>P067</td>\n",
       "      <td>2024-05-27 22:23:54</td>\n",
       "      <td>1</td>\n",
       "      <td>300.68</td>\n",
       "      <td>300.68</td>\n",
       "    </tr>\n",
       "    <tr>\n",
       "      <th>2</th>\n",
       "      <td>T00166</td>\n",
       "      <td>C0127</td>\n",
       "      <td>P067</td>\n",
       "      <td>2024-04-25 07:38:55</td>\n",
       "      <td>1</td>\n",
       "      <td>300.68</td>\n",
       "      <td>300.68</td>\n",
       "    </tr>\n",
       "    <tr>\n",
       "      <th>3</th>\n",
       "      <td>T00272</td>\n",
       "      <td>C0087</td>\n",
       "      <td>P067</td>\n",
       "      <td>2024-03-26 22:55:37</td>\n",
       "      <td>2</td>\n",
       "      <td>601.36</td>\n",
       "      <td>300.68</td>\n",
       "    </tr>\n",
       "    <tr>\n",
       "      <th>4</th>\n",
       "      <td>T00363</td>\n",
       "      <td>C0070</td>\n",
       "      <td>P067</td>\n",
       "      <td>2024-03-21 15:10:10</td>\n",
       "      <td>3</td>\n",
       "      <td>902.04</td>\n",
       "      <td>300.68</td>\n",
       "    </tr>\n",
       "  </tbody>\n",
       "</table>\n",
       "</div>"
      ],
      "text/plain": [
       "  TransactionID CustomerID ProductID      TransactionDate  Quantity  \\\n",
       "0        T00001      C0199      P067  2024-08-25 12:38:23         1   \n",
       "1        T00112      C0146      P067  2024-05-27 22:23:54         1   \n",
       "2        T00166      C0127      P067  2024-04-25 07:38:55         1   \n",
       "3        T00272      C0087      P067  2024-03-26 22:55:37         2   \n",
       "4        T00363      C0070      P067  2024-03-21 15:10:10         3   \n",
       "\n",
       "   TotalValue   Price  \n",
       "0      300.68  300.68  \n",
       "1      300.68  300.68  \n",
       "2      300.68  300.68  \n",
       "3      601.36  300.68  \n",
       "4      902.04  300.68  "
      ]
     },
     "execution_count": 47,
     "metadata": {},
     "output_type": "execute_result"
    }
   ],
   "source": [
    "transactions_df.head()"
   ]
  },
  {
   "cell_type": "code",
   "execution_count": 48,
   "id": "3875773a",
   "metadata": {},
   "outputs": [
    {
     "name": "stdout",
     "output_type": "stream",
     "text": [
      "<class 'pandas.core.frame.DataFrame'>\n",
      "RangeIndex: 1000 entries, 0 to 999\n",
      "Data columns (total 7 columns):\n",
      " #   Column           Non-Null Count  Dtype  \n",
      "---  ------           --------------  -----  \n",
      " 0   TransactionID    1000 non-null   object \n",
      " 1   CustomerID       1000 non-null   object \n",
      " 2   ProductID        1000 non-null   object \n",
      " 3   TransactionDate  1000 non-null   object \n",
      " 4   Quantity         1000 non-null   int64  \n",
      " 5   TotalValue       1000 non-null   float64\n",
      " 6   Price            1000 non-null   float64\n",
      "dtypes: float64(2), int64(1), object(4)\n",
      "memory usage: 54.8+ KB\n"
     ]
    }
   ],
   "source": [
    "transactions_df.info()"
   ]
  },
  {
   "cell_type": "code",
   "execution_count": 49,
   "id": "74624857",
   "metadata": {},
   "outputs": [],
   "source": [
    "# Step 2: Preprocess Data\n",
    "# Convert dates to datetime format\n",
    "customers_df['SignupDate'] = pd.to_datetime(customers_df['SignupDate'])\n",
    "transactions_df['TransactionDate'] = pd.to_datetime(transactions_df['TransactionDate'])"
   ]
  },
  {
   "cell_type": "code",
   "execution_count": 50,
   "id": "322c6fbf",
   "metadata": {},
   "outputs": [
    {
     "name": "stdout",
     "output_type": "stream",
     "text": [
      "<class 'pandas.core.frame.DataFrame'>\n",
      "RangeIndex: 1000 entries, 0 to 999\n",
      "Data columns (total 7 columns):\n",
      " #   Column           Non-Null Count  Dtype         \n",
      "---  ------           --------------  -----         \n",
      " 0   TransactionID    1000 non-null   object        \n",
      " 1   CustomerID       1000 non-null   object        \n",
      " 2   ProductID        1000 non-null   object        \n",
      " 3   TransactionDate  1000 non-null   datetime64[ns]\n",
      " 4   Quantity         1000 non-null   int64         \n",
      " 5   TotalValue       1000 non-null   float64       \n",
      " 6   Price            1000 non-null   float64       \n",
      "dtypes: datetime64[ns](1), float64(2), int64(1), object(3)\n",
      "memory usage: 54.8+ KB\n"
     ]
    }
   ],
   "source": [
    "transactions_df.info()"
   ]
  },
  {
   "cell_type": "code",
   "execution_count": 51,
   "id": "07e65e75",
   "metadata": {},
   "outputs": [
    {
     "name": "stdout",
     "output_type": "stream",
     "text": [
      "<class 'pandas.core.frame.DataFrame'>\n",
      "RangeIndex: 200 entries, 0 to 199\n",
      "Data columns (total 4 columns):\n",
      " #   Column        Non-Null Count  Dtype         \n",
      "---  ------        --------------  -----         \n",
      " 0   CustomerID    200 non-null    object        \n",
      " 1   CustomerName  200 non-null    object        \n",
      " 2   Region        200 non-null    object        \n",
      " 3   SignupDate    200 non-null    datetime64[ns]\n",
      "dtypes: datetime64[ns](1), object(3)\n",
      "memory usage: 6.4+ KB\n"
     ]
    }
   ],
   "source": [
    "customers_df.info()"
   ]
  },
  {
   "cell_type": "code",
   "execution_count": 52,
   "id": "93cc5abd",
   "metadata": {},
   "outputs": [],
   "source": [
    "#converted customer.signedupDate and transaction.Transactiondate into a proper datetime format for consistency."
   ]
  },
  {
   "cell_type": "code",
   "execution_count": 53,
   "id": "0a5b77b2",
   "metadata": {},
   "outputs": [],
   "source": [
    "# Aggregate transactional data for customer profiles\n",
    "customer_transactions = transactions_df.groupby('CustomerID').agg({\n",
    "    'TotalValue': 'sum',       # Total spending\n",
    "    'TransactionID': 'count',  # Number of transactions\n",
    "    'ProductID': lambda x: x.nunique()  # Unique products purchased\n",
    "}).rename(columns={\n",
    "    'TotalValue': 'TotalSpending',\n",
    "    'TransactionID': 'TransactionCount',\n",
    "    'ProductID': 'UniqueProducts'\n",
    "}).reset_index()"
   ]
  },
  {
   "cell_type": "code",
   "execution_count": 54,
   "id": "37edc077",
   "metadata": {},
   "outputs": [
    {
     "name": "stdout",
     "output_type": "stream",
     "text": [
      "    CustomerID  TotalSpending  TransactionCount  UniqueProducts\n",
      "0        C0001        3354.52                 5               5\n",
      "1        C0002        1862.74                 4               4\n",
      "2        C0003        2725.38                 4               4\n",
      "3        C0004        5354.88                 8               8\n",
      "4        C0005        2034.24                 3               3\n",
      "..         ...            ...               ...             ...\n",
      "194      C0196        4982.88                 4               3\n",
      "195      C0197        1928.65                 3               3\n",
      "196      C0198         931.83                 2               2\n",
      "197      C0199        1979.28                 4               4\n",
      "198      C0200        4758.60                 5               5\n",
      "\n",
      "[199 rows x 4 columns]\n"
     ]
    }
   ],
   "source": [
    "print(customer_transactions)"
   ]
  },
  {
   "cell_type": "code",
   "execution_count": 56,
   "id": "d31c0b83",
   "metadata": {},
   "outputs": [],
   "source": [
    "# Merge customer profiles with customer data\n",
    "customer_profiles = pd.merge(customers_df, customer_transactions, on='CustomerID', how='left')"
   ]
  },
  {
   "cell_type": "code",
   "execution_count": 59,
   "id": "fed7674c",
   "metadata": {},
   "outputs": [
    {
     "name": "stdout",
     "output_type": "stream",
     "text": [
      "    CustomerID        CustomerName         Region SignupDate  TotalSpending  \\\n",
      "0        C0001    Lawrence Carroll  South America 2022-07-10        3354.52   \n",
      "1        C0002      Elizabeth Lutz           Asia 2022-02-13        1862.74   \n",
      "2        C0003      Michael Rivera  South America 2024-03-07        2725.38   \n",
      "3        C0004  Kathleen Rodriguez  South America 2022-10-09        5354.88   \n",
      "4        C0005         Laura Weber           Asia 2022-08-15        2034.24   \n",
      "..         ...                 ...            ...        ...            ...   \n",
      "195      C0196         Laura Watts         Europe 2022-06-07        4982.88   \n",
      "196      C0197    Christina Harvey         Europe 2023-03-21        1928.65   \n",
      "197      C0198         Rebecca Ray         Europe 2022-02-27         931.83   \n",
      "198      C0199      Andrea Jenkins         Europe 2022-12-03        1979.28   \n",
      "199      C0200         Kelly Cross           Asia 2023-06-11        4758.60   \n",
      "\n",
      "     TransactionCount  UniqueProducts  \n",
      "0                 5.0             5.0  \n",
      "1                 4.0             4.0  \n",
      "2                 4.0             4.0  \n",
      "3                 8.0             8.0  \n",
      "4                 3.0             3.0  \n",
      "..                ...             ...  \n",
      "195               4.0             3.0  \n",
      "196               3.0             3.0  \n",
      "197               2.0             2.0  \n",
      "198               4.0             4.0  \n",
      "199               5.0             5.0  \n",
      "\n",
      "[200 rows x 7 columns]\n"
     ]
    }
   ],
   "source": [
    "print(customer_profiles)"
   ]
  },
  {
   "cell_type": "code",
   "execution_count": 61,
   "id": "b3856a28",
   "metadata": {},
   "outputs": [
    {
     "name": "stdout",
     "output_type": "stream",
     "text": [
      "CustomerID          0\n",
      "CustomerName        0\n",
      "Region              0\n",
      "SignupDate          0\n",
      "TotalSpending       1\n",
      "TransactionCount    1\n",
      "UniqueProducts      1\n",
      "dtype: int64\n"
     ]
    }
   ],
   "source": [
    "missing_values=customer_profiles.isnull().sum()\n",
    "print(missing_values)"
   ]
  },
  {
   "cell_type": "code",
   "execution_count": 62,
   "id": "af688e54",
   "metadata": {},
   "outputs": [],
   "source": [
    "# Fill missing values for customers with no transactions\n",
    "customer_profiles.fillna({\n",
    "    'TotalSpending': 0,\n",
    "    'TransactionCount': 0,\n",
    "    'UniqueProducts': 0\n",
    "}, inplace=True)"
   ]
  },
  {
   "cell_type": "code",
   "execution_count": 63,
   "id": "286d5373",
   "metadata": {},
   "outputs": [
    {
     "name": "stdout",
     "output_type": "stream",
     "text": [
      "CustomerID          0\n",
      "CustomerName        0\n",
      "Region              0\n",
      "SignupDate          0\n",
      "TotalSpending       0\n",
      "TransactionCount    0\n",
      "UniqueProducts      0\n",
      "dtype: int64\n"
     ]
    }
   ],
   "source": [
    "missing_values=customer_profiles.isnull().sum()\n",
    "print(missing_values)"
   ]
  },
  {
   "cell_type": "code",
   "execution_count": 64,
   "id": "ff267e93",
   "metadata": {},
   "outputs": [],
   "source": [
    "# Step 3: Normalize Numeric Features\n",
    "scaler = MinMaxScaler()\n",
    "numeric_features = ['TotalSpending', 'TransactionCount', 'UniqueProducts']\n",
    "customer_profiles[numeric_features] = scaler.fit_transform(customer_profiles[numeric_features])"
   ]
  },
  {
   "cell_type": "code",
   "execution_count": 65,
   "id": "95add330",
   "metadata": {},
   "outputs": [
    {
     "name": "stdout",
     "output_type": "stream",
     "text": [
      "    CustomerID        CustomerName         Region SignupDate  TotalSpending  \\\n",
      "0        C0001    Lawrence Carroll  South America 2022-07-10       0.314274   \n",
      "1        C0002      Elizabeth Lutz           Asia 2022-02-13       0.174514   \n",
      "2        C0003      Michael Rivera  South America 2024-03-07       0.255332   \n",
      "3        C0004  Kathleen Rodriguez  South America 2022-10-09       0.501681   \n",
      "4        C0005         Laura Weber           Asia 2022-08-15       0.190581   \n",
      "..         ...                 ...            ...        ...            ...   \n",
      "195      C0196         Laura Watts         Europe 2022-06-07       0.466830   \n",
      "196      C0197    Christina Harvey         Europe 2023-03-21       0.180689   \n",
      "197      C0198         Rebecca Ray         Europe 2022-02-27       0.087300   \n",
      "198      C0199      Andrea Jenkins         Europe 2022-12-03       0.185432   \n",
      "199      C0200         Kelly Cross           Asia 2023-06-11       0.445818   \n",
      "\n",
      "     TransactionCount  UniqueProducts  \n",
      "0            0.454545             0.5  \n",
      "1            0.363636             0.4  \n",
      "2            0.363636             0.4  \n",
      "3            0.727273             0.8  \n",
      "4            0.272727             0.3  \n",
      "..                ...             ...  \n",
      "195          0.363636             0.3  \n",
      "196          0.272727             0.3  \n",
      "197          0.181818             0.2  \n",
      "198          0.363636             0.4  \n",
      "199          0.454545             0.5  \n",
      "\n",
      "[200 rows x 7 columns]\n"
     ]
    }
   ],
   "source": [
    "print(customer_profiles)"
   ]
  },
  {
   "cell_type": "code",
   "execution_count": 66,
   "id": "50c40dce",
   "metadata": {},
   "outputs": [],
   "source": [
    "# Step 4: Compute Similarity Matrix\n",
    "# Subset for first 20 customers\n",
    "subset_profiles = customer_profiles.iloc[:20]\n",
    "feature_matrix = subset_profiles[numeric_features].values\n",
    "similarity_matrix = cosine_similarity(feature_matrix)"
   ]
  },
  {
   "cell_type": "code",
   "execution_count": 70,
   "id": "6d5d419f",
   "metadata": {},
   "outputs": [
    {
     "name": "stdout",
     "output_type": "stream",
     "text": [
      "   CustomerID        CustomerName         Region SignupDate  TotalSpending  \\\n",
      "0       C0001    Lawrence Carroll  South America 2022-07-10       0.314274   \n",
      "1       C0002      Elizabeth Lutz           Asia 2022-02-13       0.174514   \n",
      "2       C0003      Michael Rivera  South America 2024-03-07       0.255332   \n",
      "3       C0004  Kathleen Rodriguez  South America 2022-10-09       0.501681   \n",
      "4       C0005         Laura Weber           Asia 2022-08-15       0.190581   \n",
      "5       C0006     Brittany Palmer  South America 2024-01-07       0.396067   \n",
      "6       C0007         Paul Graves           Asia 2022-06-18       0.241695   \n",
      "7       C0008            David Li  North America 2024-01-13       0.400193   \n",
      "8       C0009           Joy Clark         Europe 2023-08-14       0.083990   \n",
      "9       C0010           Aaron Cox         Europe 2022-12-15       0.160912   \n",
      "10      C0011       Bryan Mathews  South America 2022-12-12       0.349452   \n",
      "11      C0012           Kevin May  South America 2024-08-07       0.490100   \n",
      "12      C0013     Lauren Buchanan  South America 2024-05-19       0.562173   \n",
      "13      C0014      Deborah Wilcox         Europe 2024-06-22       0.029854   \n",
      "14      C0015          Tina Duran  North America 2023-11-20       0.108441   \n",
      "15      C0016         Emily Woods  North America 2024-01-03       0.362982   \n",
      "16      C0017       Jennifer King         Europe 2023-12-05       0.445370   \n",
      "17      C0018        Tyler Haynes  North America 2024-09-21       0.447996   \n",
      "18      C0019   Brandon Rodriguez         Europe 2023-01-12       0.204782   \n",
      "19      C0020   Mr. Manuel Conway  North America 2024-06-11       0.086418   \n",
      "\n",
      "    TransactionCount  UniqueProducts  \n",
      "0           0.454545             0.5  \n",
      "1           0.363636             0.4  \n",
      "2           0.363636             0.4  \n",
      "3           0.727273             0.8  \n",
      "4           0.272727             0.3  \n",
      "5           0.363636             0.4  \n",
      "6           0.272727             0.3  \n",
      "7           0.909091             1.0  \n",
      "8           0.272727             0.3  \n",
      "9           0.363636             0.4  \n",
      "10          0.454545             0.5  \n",
      "11          0.636364             0.6  \n",
      "12          0.636364             0.7  \n",
      "13          0.090909             0.1  \n",
      "14          0.181818             0.2  \n",
      "15          0.454545             0.5  \n",
      "16          0.727273             0.8  \n",
      "17          0.454545             0.5  \n",
      "18          0.545455             0.6  \n",
      "19          0.090909             0.1  \n"
     ]
    }
   ],
   "source": [
    "print(subset_profiles)"
   ]
  },
  {
   "cell_type": "code",
   "execution_count": 76,
   "id": "d9aea92f",
   "metadata": {},
   "outputs": [],
   "source": [
    "# Step 5: Generate Lookalike Recommendations\n",
    "lookalike_results = {}\n",
    "for idx, customer_id in enumerate(subset_profiles['CustomerID']):\n",
    "    # Get similarity scores for the current customer\n",
    "    scores = similarity_matrix[idx]\n",
    "    #print(idx,customer_id,scores)\n",
    "    # Sort by score (excluding self, idx) and get top 3\n",
    "    similar_indices = np.argsort(scores)[::-1][1:4]\n",
    "    similar_customers = [\n",
    "        (subset_profiles.iloc[i]['CustomerID'], round(scores[i], 3)) \n",
    "        for i in similar_indices\n",
    "    ]\n",
    "    \n",
    "    #print(similar_customers)\n",
    "    lookalike_results[customer_id] = similar_customers\n",
    "    \n",
    "    \n",
    "    "
   ]
  },
  {
   "cell_type": "code",
   "execution_count": 77,
   "id": "f3515d19",
   "metadata": {},
   "outputs": [
    {
     "name": "stdout",
     "output_type": "stream",
     "text": [
      "Lookalike results saved to Lookalike.csv\n"
     ]
    }
   ],
   "source": [
    "# Step 6: Save Results to Lookalike.csv\n",
    "lookalike_data = [\n",
    "    {\"cust_id\": cust_id, \"List<cust_id,score>\": str(similar_customers)}\n",
    "    for cust_id, similar_customers in lookalike_results.items()\n",
    "]\n",
    "\n",
    "lookalike_df = pd.DataFrame(lookalike_data)\n",
    "lookalike_csv_path = 'Lookalike.csv'\n",
    "lookalike_df.to_csv(lookalike_csv_path, index=False)\n",
    "\n",
    "print(f\"Lookalike results saved to {lookalike_csv_path}\")\n"
   ]
  },
  {
   "cell_type": "code",
   "execution_count": 78,
   "id": "6a4d1c6d",
   "metadata": {},
   "outputs": [],
   "source": [
    "Lookalike_df = pd.read_csv('Lookalike.csv')"
   ]
  },
  {
   "cell_type": "code",
   "execution_count": 79,
   "id": "272459f5",
   "metadata": {},
   "outputs": [
    {
     "data": {
      "text/html": [
       "<div>\n",
       "<style scoped>\n",
       "    .dataframe tbody tr th:only-of-type {\n",
       "        vertical-align: middle;\n",
       "    }\n",
       "\n",
       "    .dataframe tbody tr th {\n",
       "        vertical-align: top;\n",
       "    }\n",
       "\n",
       "    .dataframe thead th {\n",
       "        text-align: right;\n",
       "    }\n",
       "</style>\n",
       "<table border=\"1\" class=\"dataframe\">\n",
       "  <thead>\n",
       "    <tr style=\"text-align: right;\">\n",
       "      <th></th>\n",
       "      <th>cust_id</th>\n",
       "      <th>List&lt;cust_id,score&gt;</th>\n",
       "    </tr>\n",
       "  </thead>\n",
       "  <tbody>\n",
       "    <tr>\n",
       "      <th>0</th>\n",
       "      <td>C0001</td>\n",
       "      <td>[('C0004', 1.0), ('C0005', 1.0), ('C0003', 1.0)]</td>\n",
       "    </tr>\n",
       "    <tr>\n",
       "      <th>1</th>\n",
       "      <td>C0002</td>\n",
       "      <td>[('C0010', 1.0), ('C0008', 1.0), ('C0019', 0.9...</td>\n",
       "    </tr>\n",
       "    <tr>\n",
       "      <th>2</th>\n",
       "      <td>C0003</td>\n",
       "      <td>[('C0005', 1.0), ('C0001', 1.0), ('C0004', 1.0)]</td>\n",
       "    </tr>\n",
       "    <tr>\n",
       "      <th>3</th>\n",
       "      <td>C0004</td>\n",
       "      <td>[('C0001', 1.0), ('C0005', 1.0), ('C0003', 1.0)]</td>\n",
       "    </tr>\n",
       "    <tr>\n",
       "      <th>4</th>\n",
       "      <td>C0005</td>\n",
       "      <td>[('C0003', 1.0), ('C0001', 1.0), ('C0004', 1.0)]</td>\n",
       "    </tr>\n",
       "    <tr>\n",
       "      <th>5</th>\n",
       "      <td>C0006</td>\n",
       "      <td>[('C0018', 0.999), ('C0020', 0.998), ('C0007',...</td>\n",
       "    </tr>\n",
       "    <tr>\n",
       "      <th>6</th>\n",
       "      <td>C0007</td>\n",
       "      <td>[('C0013', 1.0), ('C0020', 1.0), ('C0016', 0.9...</td>\n",
       "    </tr>\n",
       "    <tr>\n",
       "      <th>7</th>\n",
       "      <td>C0008</td>\n",
       "      <td>[('C0010', 1.0), ('C0002', 1.0), ('C0019', 0.9...</td>\n",
       "    </tr>\n",
       "    <tr>\n",
       "      <th>8</th>\n",
       "      <td>C0009</td>\n",
       "      <td>[('C0014', 1.0), ('C0019', 0.999), ('C0008', 0...</td>\n",
       "    </tr>\n",
       "    <tr>\n",
       "      <th>9</th>\n",
       "      <td>C0010</td>\n",
       "      <td>[('C0008', 1.0), ('C0002', 1.0), ('C0019', 0.9...</td>\n",
       "    </tr>\n",
       "    <tr>\n",
       "      <th>10</th>\n",
       "      <td>C0011</td>\n",
       "      <td>[('C0016', 1.0), ('C0003', 0.999), ('C0005', 0...</td>\n",
       "    </tr>\n",
       "    <tr>\n",
       "      <th>11</th>\n",
       "      <td>C0012</td>\n",
       "      <td>[('C0016', 0.998), ('C0013', 0.997), ('C0007',...</td>\n",
       "    </tr>\n",
       "    <tr>\n",
       "      <th>12</th>\n",
       "      <td>C0013</td>\n",
       "      <td>[('C0007', 1.0), ('C0020', 0.999), ('C0016', 0...</td>\n",
       "    </tr>\n",
       "    <tr>\n",
       "      <th>13</th>\n",
       "      <td>C0014</td>\n",
       "      <td>[('C0009', 1.0), ('C0019', 1.0), ('C0008', 0.9...</td>\n",
       "    </tr>\n",
       "    <tr>\n",
       "      <th>14</th>\n",
       "      <td>C0015</td>\n",
       "      <td>[('C0017', 1.0), ('C0004', 0.999), ('C0001', 0...</td>\n",
       "    </tr>\n",
       "    <tr>\n",
       "      <th>15</th>\n",
       "      <td>C0016</td>\n",
       "      <td>[('C0011', 1.0), ('C0013', 0.999), ('C0007', 0...</td>\n",
       "    </tr>\n",
       "    <tr>\n",
       "      <th>16</th>\n",
       "      <td>C0017</td>\n",
       "      <td>[('C0015', 1.0), ('C0004', 0.999), ('C0001', 0...</td>\n",
       "    </tr>\n",
       "    <tr>\n",
       "      <th>17</th>\n",
       "      <td>C0018</td>\n",
       "      <td>[('C0020', 1.0), ('C0006', 0.999), ('C0007', 0...</td>\n",
       "    </tr>\n",
       "    <tr>\n",
       "      <th>18</th>\n",
       "      <td>C0019</td>\n",
       "      <td>[('C0014', 1.0), ('C0008', 0.999), ('C0010', 0...</td>\n",
       "    </tr>\n",
       "    <tr>\n",
       "      <th>19</th>\n",
       "      <td>C0020</td>\n",
       "      <td>[('C0018', 1.0), ('C0007', 1.0), ('C0013', 0.9...</td>\n",
       "    </tr>\n",
       "  </tbody>\n",
       "</table>\n",
       "</div>"
      ],
      "text/plain": [
       "   cust_id                                List<cust_id,score>\n",
       "0    C0001   [('C0004', 1.0), ('C0005', 1.0), ('C0003', 1.0)]\n",
       "1    C0002  [('C0010', 1.0), ('C0008', 1.0), ('C0019', 0.9...\n",
       "2    C0003   [('C0005', 1.0), ('C0001', 1.0), ('C0004', 1.0)]\n",
       "3    C0004   [('C0001', 1.0), ('C0005', 1.0), ('C0003', 1.0)]\n",
       "4    C0005   [('C0003', 1.0), ('C0001', 1.0), ('C0004', 1.0)]\n",
       "5    C0006  [('C0018', 0.999), ('C0020', 0.998), ('C0007',...\n",
       "6    C0007  [('C0013', 1.0), ('C0020', 1.0), ('C0016', 0.9...\n",
       "7    C0008  [('C0010', 1.0), ('C0002', 1.0), ('C0019', 0.9...\n",
       "8    C0009  [('C0014', 1.0), ('C0019', 0.999), ('C0008', 0...\n",
       "9    C0010  [('C0008', 1.0), ('C0002', 1.0), ('C0019', 0.9...\n",
       "10   C0011  [('C0016', 1.0), ('C0003', 0.999), ('C0005', 0...\n",
       "11   C0012  [('C0016', 0.998), ('C0013', 0.997), ('C0007',...\n",
       "12   C0013  [('C0007', 1.0), ('C0020', 0.999), ('C0016', 0...\n",
       "13   C0014  [('C0009', 1.0), ('C0019', 1.0), ('C0008', 0.9...\n",
       "14   C0015  [('C0017', 1.0), ('C0004', 0.999), ('C0001', 0...\n",
       "15   C0016  [('C0011', 1.0), ('C0013', 0.999), ('C0007', 0...\n",
       "16   C0017  [('C0015', 1.0), ('C0004', 0.999), ('C0001', 0...\n",
       "17   C0018  [('C0020', 1.0), ('C0006', 0.999), ('C0007', 0...\n",
       "18   C0019  [('C0014', 1.0), ('C0008', 0.999), ('C0010', 0...\n",
       "19   C0020  [('C0018', 1.0), ('C0007', 1.0), ('C0013', 0.9..."
      ]
     },
     "execution_count": 79,
     "metadata": {},
     "output_type": "execute_result"
    }
   ],
   "source": [
    "Lookalike_df.head(20)"
   ]
  },
  {
   "cell_type": "code",
   "execution_count": null,
   "id": "88e787d1",
   "metadata": {},
   "outputs": [],
   "source": []
  }
 ],
 "metadata": {
  "kernelspec": {
   "display_name": "Python 3 (ipykernel)",
   "language": "python",
   "name": "python3"
  },
  "language_info": {
   "codemirror_mode": {
    "name": "ipython",
    "version": 3
   },
   "file_extension": ".py",
   "mimetype": "text/x-python",
   "name": "python",
   "nbconvert_exporter": "python",
   "pygments_lexer": "ipython3",
   "version": "3.9.12"
  }
 },
 "nbformat": 4,
 "nbformat_minor": 5
}
